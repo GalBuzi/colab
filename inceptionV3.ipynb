{
  "nbformat": 4,
  "nbformat_minor": 0,
  "metadata": {
    "colab": {
      "name": "inceptionV3.ipynb",
      "private_outputs": true,
      "provenance": [],
      "collapsed_sections": [],
      "authorship_tag": "ABX9TyOILVLo9BR6gqPi9A4DRWrX",
      "include_colab_link": true
    },
    "kernelspec": {
      "name": "python3",
      "display_name": "Python 3"
    },
    "accelerator": "GPU"
  },
  "cells": [
    {
      "cell_type": "markdown",
      "metadata": {
        "id": "view-in-github",
        "colab_type": "text"
      },
      "source": [
        "<a href=\"https://colab.research.google.com/github/GalBuzi/colab/blob/main/inceptionV3.ipynb\" target=\"_parent\"><img src=\"https://colab.research.google.com/assets/colab-badge.svg\" alt=\"Open In Colab\"/></a>"
      ]
    },
    {
      "cell_type": "code",
      "metadata": {
        "id": "QdjgzuuTsnBe"
      },
      "source": [
        "import numpy as np\n",
        "import pandas as pd\n",
        "import datetime as dt\n",
        "import matplotlib.pyplot as plt\n",
        "from mpl_toolkits.axes_grid1 import ImageGrid\n",
        "from os import listdir, makedirs\n",
        "from os.path import join, exists, expanduser\n",
        "from tqdm import tqdm\n",
        "from keras.preprocessing import image\n",
        "from keras.applications.vgg16 import VGG16\n",
        "from keras.applications.resnet50 import ResNet50\n",
        "from keras.applications import xception\n",
        "from keras.applications import inception_v3\n",
        "from keras.applications.vgg16 import preprocess_input, decode_predictions\n",
        "from sklearn.linear_model import LogisticRegression\n",
        "\n",
        "from keras.models import Sequential\n",
        "from keras.optimizers import Adam, RMSprop\n",
        "from sklearn.model_selection import train_test_split\n",
        "from keras import backend as K\n",
        "from keras.preprocessing.image import ImageDataGenerator, load_img\n",
        "import random\n",
        "import cv2\n",
        "from keras.models import Sequential\n",
        "from keras import layers\n",
        "from keras.layers import Conv2D, MaxPooling2D, Dropout, Flatten, Dense, Activation, GlobalMaxPooling2D\n",
        "from keras import applications\n",
        "from keras.preprocessing.image import ImageDataGenerator\n",
        "from keras import optimizers\n",
        "from keras.applications import VGG16\n",
        "from keras.models import Model\n",
        "from google.colab import files\n",
        "import io\n",
        "import os\n",
        "from google.colab import drive\n",
        "from sklearn.metrics import confusion_matrix,accuracy_score,log_loss\n",
        "\n",
        "drive.mount('gdrive')"
      ],
      "execution_count": null,
      "outputs": []
    },
    {
      "cell_type": "code",
      "metadata": {
        "id": "uBiQpsQSs3Ja"
      },
      "source": [
        "\n",
        "train_dir = 'gdrive/My Drive/dog-breed-identification/train/'\n",
        "csv_file = open('gdrive/My Drive/dog-breed-identification/labels.csv')\n",
        "label = pd.read_csv(csv_file)"
      ],
      "execution_count": null,
      "outputs": []
    },
    {
      "cell_type": "code",
      "metadata": {
        "id": "SkZ1LBP3tSkO"
      },
      "source": [
        "label['path'] = train_dir + label.id + '.jpg'\n",
        "\n",
        "fig,axes = plt.subplots(2,5,figsize = (30,10))\n",
        "\n",
        "for ax in axes.reshape(-1,):\n",
        "    rnd_idx = np.random.randint(label.index[0],label.index[-1])\n",
        "    file_path = label.loc[rnd_idx,'path']\n",
        "    arr = plt.imread(file_path)\n",
        "    ax.imshow(arr)\n",
        "    ax.set_title(label.loc[rnd_idx,'breed']+'\\n'+str(arr.shape))\n",
        "    ax.axis('off')"
      ],
      "execution_count": null,
      "outputs": []
    },
    {
      "cell_type": "code",
      "metadata": {
        "id": "4ZLpOy6htwV4"
      },
      "source": [
        "# sizes_info = label.path.apply(lambda x: plt.imread(x).shape).values.tolist()\n",
        "# meta_df    = pd.DataFrame(sizes_info,columns = ['height','width','channels'])\n",
        "# label      = pd.merge(label,meta_df,how = 'left',left_index = True,right_index=True)\n",
        "# label"
      ],
      "execution_count": null,
      "outputs": []
    },
    {
      "cell_type": "code",
      "metadata": {
        "id": "vlMUW4P6uCkm"
      },
      "source": [
        "label['id_jpg'] = label.id+'.jpg'\n",
        "breed_list = label.breed.unique()\n",
        "print(label)\n",
        "print(breed_list)"
      ],
      "execution_count": null,
      "outputs": []
    },
    {
      "cell_type": "code",
      "metadata": {
        "id": "Y7D1I5UqvQ64"
      },
      "source": [
        "def save_model(model):\n",
        "    model_json = model.to_json()\n",
        "    with open(\"model.json\", \"w\") as json_file:\n",
        "        json_file.write(model_json)\n",
        "    model.save_weights(\"model.h5\")\n",
        "\n",
        "def load_model():\n",
        "    json_file = open('model.json', 'r')\n",
        "    loaded_model_json = json_file.read()\n",
        "    json_file.close()\n",
        "    loaded_model = model_from_json(loaded_model_json)\n",
        "    loaded_model.load_weights(\"model.h5\")\n",
        "    return loaded_model\n",
        "\n",
        "def confusion_matrix_predict(model, validation_generator):\n",
        "    preds = model.predict(validation_generator)\n",
        "    predicts = np.argmax(preds, axis=1)  # return the predicted category in each sample in test set\n",
        "    print(confusion_matrix(validation_generator.index_array, predicts))\n",
        "    print('model accuracy on test set is: {}%'.format(accuracy_score(validation_generator.index_array, predicts) * 100))\n",
        "    sns.heatmap(confusion_matrix(validation_generator.index_array, predicts), cmap='Greens', annot=False, fmt='d')\n",
        "    plt.xlabel('Prediction')\n",
        "    plt.ylabel('True label')\n",
        "    plt.title('Classification results on test set')\n",
        "    plt.show()\n",
        "\n",
        "def plot_history(history):\n",
        "\n",
        "    plt.plot(history.history['accuracy'])\n",
        "    plt.plot(history.history['val_accuracy'])\n",
        "    plt.title('Model accuracy')\n",
        "    plt.ylabel('Accuracy')\n",
        "    plt.xlabel('Epoch')\n",
        "    plt.legend(['Train', 'Test'], loc='upper left')\n",
        "    plt.show()\n",
        "    plt.plot(history.history['loss'])\n",
        "    plt.plot(history.history['val_loss'])\n",
        "    plt.title('Model loss')\n",
        "    plt.ylabel('Loss')\n",
        "    plt.xlabel('Epoch')\n",
        "    plt.legend(['Train', 'Test'], loc='upper left')\n",
        "    plt.show()"
      ],
      "execution_count": null,
      "outputs": []
    },
    {
      "cell_type": "code",
      "metadata": {
        "id": "5881vz1qvUJ0"
      },
      "source": [
        "# Train and Test split\n",
        "\n",
        "train_df, validate_df = train_test_split(label, test_size=0.2)\n",
        "train_df = train_df.reset_index()\n",
        "validate_df = validate_df.reset_index()\n",
        "\n",
        "total_train = train_df.shape[0]\n",
        "total_validate = validate_df.shape[0]\n",
        "\n",
        "print(train_df)\n",
        "print(validate_df)\n",
        "\n",
        "print(train_df.shape, validate_df.shape)\n",
        "\n",
        "image_size = 224\n",
        "input_shape = (image_size, image_size, 3)\n",
        "\n",
        "epochs = 50\n",
        "batch_size = 32"
      ],
      "execution_count": null,
      "outputs": []
    },
    {
      "cell_type": "code",
      "metadata": {
        "id": "A0zWX7b3vjx1"
      },
      "source": [
        "# Data Augmentation\n",
        "train_datagen = ImageDataGenerator(\n",
        "    rotation_range=18,\n",
        "    rescale=1./255,\n",
        "    shear_range=0.2,\n",
        "    zoom_range=0.2,\n",
        "    horizontal_flip=True,\n",
        "    fill_mode='nearest',\n",
        "    width_shift_range=0.1,\n",
        "    height_shift_range=0.1\n",
        ")\n",
        "\n",
        "\n",
        "train_generator = train_datagen.flow_from_dataframe(\n",
        "    train_df,\n",
        "    r'gdrive/My Drive/dog-breed-identification/train',\n",
        "    x_col='id_jpg',\n",
        "    y_col='breed',\n",
        "    class_mode='categorical',\n",
        "    target_size=(image_size, image_size),\n",
        "    batch_size=batch_size,\n",
        "    color_mode = 'rgb',\n",
        "    seed=42,\n",
        "    shuffle=False\n",
        ")\n",
        "\n",
        "validation_datagen = ImageDataGenerator()\n",
        "validation_generator = validation_datagen.flow_from_dataframe(\n",
        "    validate_df,\n",
        "    r'gdrive/My Drive/dog-breed-identification/train',\n",
        "    x_col='id_jpg',\n",
        "    y_col='breed',\n",
        "    class_mode='categorical',\n",
        "    target_size=(image_size, image_size),\n",
        "    batch_size=batch_size,\n",
        "    color_mode = 'rgb',\n",
        "    seed=42,\n",
        "    shuffle=False\n",
        ")"
      ],
      "execution_count": null,
      "outputs": []
    },
    {
      "cell_type": "code",
      "metadata": {
        "id": "cWrxBUvwxmtu"
      },
      "source": [
        "classes = train_generator.class_indices\n",
        "classes"
      ],
      "execution_count": null,
      "outputs": []
    },
    {
      "cell_type": "code",
      "metadata": {
        "id": "ToGiFTWdx-FV"
      },
      "source": [
        "pre_trained_model = inception_v3(include_top = False, weights = 'imagenet', input_shape = input_shape)\n",
        "\n",
        "pre_trained_model.trainbale = False\n",
        "for layer in pre_trained_model.layers:\n",
        "    layer.trainable = False\n",
        "    \n",
        "\n",
        "model = Sequential([\n",
        "    pre_trained_model,\n",
        "    tf.keras.layers.Flatten(),\n",
        "    tf.keras.layers.Dense(512,activation ='relu'),\n",
        "    tf.keras.layers.Dropout(0.1),\n",
        "    tf.keras.layers.Dense(256,activation ='relu'),\n",
        "    tf.keras.layers.Dropout(0.1),\n",
        "    tf.keras.layers.Dense(120,activation = 'softmax')\n",
        "])"
      ],
      "execution_count": null,
      "outputs": []
    },
    {
      "cell_type": "code",
      "metadata": {
        "id": "lSyqxuvxy2Xl"
      },
      "source": [
        "model.compile(loss = 'categorical_crossentropy', optimizer = Adam(), metrics = ['accuracy'])\n",
        "\n",
        "history = model.fit_generator(generator = train_generator,\n",
        "                           epochs = 3,\n",
        "                           steps_per_epoch  = train_generator.n//train_generator.batch_size,\n",
        "                           validation_data  = validation_generator,\n",
        "                           validation_steps = validation_generator.n//validation_generator.batch_size)\n",
        "\n",
        "\n",
        "loss, accuracy = model.evaluate_generator(validation_generator, validation_generator.batch_size, workers=12)\n",
        "print(\"Test: accuracy = %f  ;  loss = %f \" % (accuracy, loss))"
      ],
      "execution_count": null,
      "outputs": []
    },
    {
      "cell_type": "code",
      "metadata": {
        "id": "pnUQkQPw0FBt"
      },
      "source": [
        "plot_history(history) \n",
        "confusion_matrix_predict(model,validation_generator)\n",
        "save_model(model)"
      ],
      "execution_count": null,
      "outputs": []
    },
    {
      "cell_type": "code",
      "metadata": {
        "id": "48klE6ZQ0fax"
      },
      "source": [
        "val_pred = np.argmax(model.predict(validation_generator),axis=-1)\n",
        "classes = {x:y for y,x in classes.items()}\n",
        "\n",
        "fig,axes = plt.subplots(2,5,figsize = (30,10))\n",
        "\n",
        "for ax in axes.reshape(-1,):\n",
        "    rnd_idx = np.random.randint(0,len(validation_generator.filepaths))\n",
        "    arr = plt.imread(validation_generator.filepaths[rnd_idx])\n",
        "    ax.imshow(arr)\n",
        "    breed_true = classes[validation_generator.classes[rnd_idx]]\n",
        "    breed_pred = classes[val_pred[rnd_idx]]\n",
        "    \n",
        "    if breed_true != classes[val_pred[rnd_idx]]:\n",
        "        ax.set_title(breed_true+'\\n'+ breed_pred, color = 'red',fontsize = 15)\n",
        "    else:\n",
        "        ax.set_title(breed_true+'\\n'+ breed_pred, color = 'black',fontsize = 15)\n",
        "\n",
        "    ax.axis('off')"
      ],
      "execution_count": null,
      "outputs": []
    }
  ]
}