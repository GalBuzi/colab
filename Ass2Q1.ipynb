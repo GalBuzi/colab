{
  "nbformat": 4,
  "nbformat_minor": 0,
  "metadata": {
    "colab": {
      "name": "Copy of Ass2Q1.ipynb",
      "private_outputs": true,
      "provenance": [],
      "include_colab_link": true
    },
    "kernelspec": {
      "name": "python3",
      "display_name": "Python 3"
    },
    "accelerator": "GPU"
  },
  "cells": [
    {
      "cell_type": "markdown",
      "metadata": {
        "id": "view-in-github",
        "colab_type": "text"
      },
      "source": [
        "<a href=\"https://colab.research.google.com/github/GalBuzi/colab/blob/main/Ass2Q1.ipynb\" target=\"_parent\"><img src=\"https://colab.research.google.com/assets/colab-badge.svg\" alt=\"Open In Colab\"/></a>"
      ]
    },
    {
      "cell_type": "code",
      "metadata": {
        "id": "IWLabK4pgK5X"
      },
      "source": [
        "from google.colab import drive\r\n",
        "drive.mount('/content/drive')"
      ],
      "execution_count": null,
      "outputs": []
    },
    {
      "cell_type": "code",
      "metadata": {
        "id": "VIJ5cYuvmsjQ"
      },
      "source": [
        "import pandas as pd\r\n",
        "import numpy as np\r\n",
        "from sklearn.metrics import mean_squared_error\r\n",
        "from sklearn.ensemble import RandomForestRegressor\r\n",
        "from sklearn.preprocessing import OneHotEncoder\r\n",
        "import seaborn as sns\r\n",
        "import matplotlib.pyplot as plt\r\n",
        "from pandas.plotting import scatter_matrix\r\n",
        "%matplotlib inline"
      ],
      "execution_count": null,
      "outputs": []
    },
    {
      "cell_type": "code",
      "metadata": {
        "id": "-PKpOwAYiFmU"
      },
      "source": [
        "foler_data_path = r'drive/My Drive/DeepLearnCourse/ass2/Protocol/'\r\n",
        "\r\n",
        "subjectID = [101,102,103,104,105,106,107,108,109]\r\n",
        "\r\n",
        "activityIDdict = {0: 'transient',\r\n",
        "              1: 'lying',\r\n",
        "              2: 'sitting',\r\n",
        "              3: 'standing',\r\n",
        "              4: 'walking',\r\n",
        "              5: 'running',\r\n",
        "              6: 'cycling',\r\n",
        "              7: 'Nordic_walking',\r\n",
        "              9: 'watching_TV',\r\n",
        "              10: 'computer_work',\r\n",
        "              11: 'car driving',\r\n",
        "              12: 'ascending_stairs',\r\n",
        "              13: 'descending_stairs',\r\n",
        "              16: 'vacuum_cleaning',\r\n",
        "              17: 'ironing',\r\n",
        "              18: 'folding_laundry',\r\n",
        "              19: 'house_cleaning',\r\n",
        "              20: 'playing_soccer',\r\n",
        "              24: 'rope_jumping' }\r\n",
        "\r\n",
        "cols = [\"timestamp\", \"activityID\",\"heartrate\"]\r\n",
        "\r\n",
        "IMUhand = ['handTemperature', \r\n",
        "           'handAcc16_x', 'handAcc16_y', 'handAcc16_z', \r\n",
        "           'handAcc6_x', 'handAcc6_y', 'handAcc6_z', \r\n",
        "           'handGyro_x', 'handGyro_y', 'handGyro_z', \r\n",
        "           'handMagne_x', 'handMagne_y', 'handMagne_z',\r\n",
        "           'handOrientation1', 'handOrientation2', 'handOrientation3', 'handOrientation4']\r\n",
        "\r\n",
        "\r\n",
        "IMUchest = ['chestTemperature', \r\n",
        "           'chestAcc16_x', 'chestAcc16_y', 'chestAcc16_z', \r\n",
        "           'chestAcc6_x', 'chestAcc6_y', 'chestAcc6_z', \r\n",
        "           'chestGyro_x', 'chestGyro_y', 'chestGyro_z', \r\n",
        "           'chestMagne_x', 'chestMagne_y', 'chestMagne_z',\r\n",
        "           'chestOrientation1', 'chestOrientation2', 'chestOrientation3', 'chestOrientation4']\r\n",
        "\r\n",
        "\r\n",
        "IMUankle = ['ankleTemperature', \r\n",
        "           'ankleAcc16_x', 'ankleAcc16_y', 'ankleAcc16_z', \r\n",
        "           'ankleAcc6_x', 'ankleAcc6_y', 'ankleAcc6_z', \r\n",
        "           'ankleGyro_x', 'ankleGyro_y', 'ankleGyro_z', \r\n",
        "           'ankleMagne_x', 'ankleMagne_y', 'ankleMagne_z',\r\n",
        "           'ankleOrientation1', 'ankleOrientation2', 'ankleOrientation3', 'ankleOrientation4']\r\n",
        "\r\n",
        "columns = cols + IMUhand + IMUchest + IMUankle \r\n",
        "columns_with_subject = cols + IMUhand + IMUchest + IMUankle + ['subject_num']\r\n",
        "\r\n",
        "len(columns) # need to be 54"
      ],
      "execution_count": null,
      "outputs": []
    },
    {
      "cell_type": "markdown",
      "metadata": {
        "id": "vSLDYBySrUUb"
      },
      "source": [
        "we need to read all train data into one dataframe to work with\r\n",
        "we will read each subject table and concatenate them to eachother"
      ]
    },
    {
      "cell_type": "markdown",
      "metadata": {
        "id": "too7UhD-vEbo"
      },
      "source": [
        "# Q1 - Data Exploration:"
      ]
    },
    {
      "cell_type": "code",
      "metadata": {
        "id": "F5Ll-fQgvOeu"
      },
      "source": [
        "all_data = pd.DataFrame()\r\n",
        "for i in range (1, 10):\r\n",
        "    procData = pd.read_table(foler_data_path + 'subject10{}.dat'.format(i), header=None, sep='\\s+')\r\n",
        "    procData.columns = columns\r\n",
        "    procData['subject_id'] = 100 + i\r\n",
        "    all_data = all_data.append(procData, ignore_index=True)\r\n",
        "\r\n",
        "all_data.reset_index(drop=True, inplace=True)\r\n",
        "all_data.head()\r\n"
      ],
      "execution_count": null,
      "outputs": []
    },
    {
      "cell_type": "code",
      "metadata": {
        "id": "t-W02RnaKf8j"
      },
      "source": [
        "print('Size of the data: ', all_data.size)\r\n",
        "print('Shape of the data: ', all_data.shape)\r\n",
        "print('Number of columns in the data: ', len(all_data.columns))\r\n",
        "result_id = all_data.groupby(['subject_id']).mean().reset_index()\r\n",
        "print('Number of uniqe ids in the data: ', len(result_id))\r\n",
        "result_act = all_data.groupby(['activityID']).mean().reset_index()\r\n",
        "print('Numbe of uniqe activitys in the data: ',len(result_act))"
      ],
      "execution_count": null,
      "outputs": []
    },
    {
      "cell_type": "markdown",
      "metadata": {
        "id": "yPWMaNI0wP2H"
      },
      "source": [
        "as we can learn from the data above, the data must go through some cleaning, for example:\r\n",
        "\r\n",
        "removing any activity with '0' because this activity means the subject isn't doing any from the activities that were mentioned in the README file.\r\n",
        "\r\n",
        "it has very noisy data and that affects the output because the heartrate values will not be extracted from the data point set in the actual important activities.\r\n"
      ]
    },
    {
      "cell_type": "code",
      "metadata": {
        "id": "_e4R9gGv6lcM"
      },
      "source": [
        "#clean data\r\n",
        "all_data = all_data.drop(all_data[all_data['activityID']==0].index)\r\n",
        "all_data = all_data.interpolate()\r\n",
        "# fill all the NaN values in a coulmn with the mean values of the column\r\n",
        "for colName in all_data.columns:\r\n",
        "    all_data[colName] = all_data[colName].fillna(all_data[colName].mean())\r\n",
        "activity_mean = all_data.groupby(['activityID']).mean().reset_index()\r\n",
        "\r\n",
        "all_data.shape"
      ],
      "execution_count": null,
      "outputs": []
    },
    {
      "cell_type": "code",
      "metadata": {
        "id": "Y4kbrH6O9OzC"
      },
      "source": [
        "def plot_samples(df, column_a, column_b, title, figsize=(10,6)):\r\n",
        "    plt.rcParams.update({'font.size': 16})\r\n",
        "    size = range(len(df))\r\n",
        "    f, ax = plt.subplots(figsize=figsize) \r\n",
        "    plt.bar(size, df[column_a])\r\n",
        "    a = ax.set_xticklabels(df[column_b])\r\n",
        "    b = ax.legend(fontsize = 20)\r\n",
        "    c = ax.set_xticks(np.arange(len(df)))\r\n",
        "    d = ax.set_title(title)\r\n",
        "    plt.show()"
      ],
      "execution_count": null,
      "outputs": []
    },
    {
      "cell_type": "code",
      "metadata": {
        "id": "OwxaElWz98J5"
      },
      "source": [
        "#present num of samples per subject\r\n",
        "sampels = all_data.groupby(['subject_id']).count().reset_index()\r\n",
        "sampels_to_subject = pd.DataFrame()\r\n",
        "sampels_to_subject['id'] = sampels['subject_id']\r\n",
        "sampels_to_subject['sampels'] = sampels['timestamp']\r\n",
        "sampels_to_subject = sampels_to_subject.sort_values(by=['sampels'])\r\n",
        "plot_samples(sampels_to_subject,'sampels','id','Number Of Samepls Per Subject')"
      ],
      "execution_count": null,
      "outputs": []
    },
    {
      "cell_type": "markdown",
      "metadata": {
        "id": "fazkEz2H_2uH"
      },
      "source": [
        "data isn't balanced for samples per subject, subject 109 has very little samples, we will probably use him as validation to check our model"
      ]
    },
    {
      "cell_type": "code",
      "metadata": {
        "id": "w_2946B4_xBY"
      },
      "source": [
        "sampels = all_data.groupby(['activityID']).count().reset_index()\r\n",
        "sampels_to_subject = pd.DataFrame()\r\n",
        "sampels_to_subject['activity'] = [activityIDdict[x] for x in sampels['activityID']]\r\n",
        "sampels_to_subject['sampels'] = sampels['timestamp']\r\n",
        "sampels_to_subject = sampels_to_subject.sort_values(by=['sampels'])\r\n",
        "plot_samples(sampels_to_subject,'sampels','activity','Number Of Samepls Per Activity',figsize=(50,10))\r\n",
        "sampels_to_subject = None"
      ],
      "execution_count": null,
      "outputs": []
    },
    {
      "cell_type": "markdown",
      "metadata": {
        "id": "mj2RuO1NGOtO"
      },
      "source": [
        "rope jumping has significally less samples - the data isn't balanced again"
      ]
    },
    {
      "cell_type": "code",
      "metadata": {
        "id": "RaqRYHWnD5Wl"
      },
      "source": [
        "sampels_heart_rate = pd.DataFrame()\r\n",
        "sampels_heart_rate['id'] = result_id['subject_id']\r\n",
        "sampels_heart_rate['heartrate'] = result_id['heartrate']\r\n",
        "sampels_heart_rate = sampels_heart_rate.sort_values(by=['heartrate'])\r\n",
        "plot_samples(sampels_heart_rate,'heartrate','id','Avg heart Rate Per Subject')"
      ],
      "execution_count": null,
      "outputs": []
    },
    {
      "cell_type": "code",
      "metadata": {
        "id": "hUxsw_29MT5U"
      },
      "source": [
        "sampels_heart_rate = pd.DataFrame()\r\n",
        "sampels_heart_rate['activity'] = [activityIDdict[x] for x in result_act['activityID']]\r\n",
        "sampels_heart_rate['heartrate'] = result_act['heartrate']\r\n",
        "sampels_heart_rate = sampels_heart_rate.sort_values(by=['heartrate'])\r\n",
        "plot_samples(sampels_heart_rate,'heartrate','activity','Avg heart Rate Per Activity',figsize=(50,10))\r\n",
        "sampels_heart_rate = None"
      ],
      "execution_count": null,
      "outputs": []
    },
    {
      "cell_type": "code",
      "metadata": {
        "id": "gzwfq_9_NDWF"
      },
      "source": [
        "samepls_tempreture = pd.DataFrame()\r\n",
        "samepls_tempreture['hand'] = result_id['handTemperature']\r\n",
        "samepls_tempreture['chest'] = result_id['chestTemperature']\r\n",
        "samepls_tempreture['ankle'] = result_id['ankleTemperature']\r\n",
        "\r\n",
        "ax = samepls_tempreture.plot(kind='line', figsize=(20,6), title='Avg Tempatures by Subjects')\r\n",
        "a = ax.set_xticklabels(result_id['subject_id'])\r\n",
        "b = ax.legend(fontsize = 20)\r\n",
        "c = ax.set_xticks(np.arange(len(samepls_tempreture)))\r\n",
        "samepls_tempreture=None"
      ],
      "execution_count": null,
      "outputs": []
    },
    {
      "cell_type": "code",
      "metadata": {
        "id": "1MJgn_szSsyW"
      },
      "source": [
        "samepls_tempreture = pd.DataFrame()\r\n",
        "samepls_tempreture['activity'] = [activityIDdict[x] for x in result_act['activityID']]\r\n",
        "samepls_tempreture['hand'] = result_act['handTemperature']\r\n",
        "samepls_tempreture['chest'] = result_act['chestTemperature']\r\n",
        "samepls_tempreture['ankle'] = result_act['ankleTemperature']\r\n",
        "\r\n",
        "ax = samepls_tempreture.plot(kind='line', figsize=(50,6), title='Avg Tempatures by Activity')\r\n",
        "a = ax.set_xticklabels(samepls_tempreture['activity'])\r\n",
        "b = ax.legend(fontsize = 20)\r\n",
        "c = ax.set_xticks(np.arange(len(samepls_tempreture)))"
      ],
      "execution_count": null,
      "outputs": []
    },
    {
      "cell_type": "code",
      "metadata": {
        "id": "UjM76yh1XWw8"
      },
      "source": [
        "samepls = pd.DataFrame()\r\n",
        "samepls['hand_x'] = result_id['handAcc16_x']\r\n",
        "samepls['hand_y'] = result_id['handAcc16_y']\r\n",
        "samepls['hand_z'] = result_id['handAcc16_z']\r\n",
        "ax = samepls.plot(kind='line', figsize=(20,6), title='Avg Hand Acceleration Value by Subjects')\r\n",
        "a = ax.set_xticklabels(result_id['subject_id'])\r\n",
        "b = ax.legend(fontsize = 20)\r\n",
        "c = ax.set_xticks(np.arange(len(samepls)))"
      ],
      "execution_count": null,
      "outputs": []
    },
    {
      "cell_type": "code",
      "metadata": {
        "id": "m8lQ4wkEYE4y"
      },
      "source": [
        "samepls = pd.DataFrame()\r\n",
        "samepls['chest_x'] = result_id['chestAcc16_x']\r\n",
        "samepls['chest_y'] = result_id['chestAcc16_y']\r\n",
        "samepls['chest_z'] = result_id['chestAcc16_z']\r\n",
        "ax = samepls.plot(kind='line', figsize=(20,6), title='Avg Chest Acceleration Value by Subjects')\r\n",
        "a = ax.set_xticklabels(result_id['subject_id'])\r\n",
        "b = ax.legend(fontsize = 20)\r\n",
        "c = ax.set_xticks(np.arange(len(samepls)))"
      ],
      "execution_count": null,
      "outputs": []
    },
    {
      "cell_type": "code",
      "metadata": {
        "id": "0U_OKdjKYl6R"
      },
      "source": [
        "samepls = pd.DataFrame()\r\n",
        "samepls['ankle_x'] = result_id['ankleAcc16_x']\r\n",
        "samepls['ankle_y'] = result_id['ankleAcc16_y']\r\n",
        "samepls['ankle_z'] = result_id['ankleAcc16_z']\r\n",
        "ax = samepls.plot(kind='line', figsize=(20,6), title='Avg Ankle Acceleration Value by Subjects')\r\n",
        "a = ax.set_xticklabels(result_id['subject_id'])\r\n",
        "b = ax.legend(fontsize = 20)\r\n",
        "c = ax.set_xticks(np.arange(len(samepls)))\r\n",
        "samepls = None"
      ],
      "execution_count": null,
      "outputs": []
    },
    {
      "cell_type": "code",
      "metadata": {
        "id": "C1UdoHZyNfxK"
      },
      "source": [
        "!pip install heatmapz"
      ],
      "execution_count": null,
      "outputs": []
    },
    {
      "cell_type": "code",
      "metadata": {
        "id": "yVxp9kWTLdwD"
      },
      "source": [
        "from heatmap import heatmap, corrplot\r\n",
        "dropped_activity = all_data.drop(['activityID'], axis = 1)\r\n",
        "\r\n",
        "plt.figure(figsize=(20, 20))\r\n",
        "corrplot(dropped_activity.corr(), size_scale=300);\r\n",
        "dropped_activity = None"
      ],
      "execution_count": null,
      "outputs": []
    },
    {
      "cell_type": "markdown",
      "metadata": {
        "id": "LtgIZKu-8Ehx"
      },
      "source": [
        "# Q2 :\r\n",
        "\r\n",
        "we will use for train set subjects 101-106 and 109 .\r\n",
        "\r\n",
        "subjects 107-108 will be our test set."
      ]
    },
    {
      "cell_type": "code",
      "metadata": {
        "id": "0ybWKT9T-W9g"
      },
      "source": [
        "# create the test data\r\n",
        "subject107 = all_data[all_data['subject_id'] == 107]\r\n",
        "subject108 = all_data[all_data['subject_id'] == 108]\r\n",
        "test = subject107.append(subject108)\r\n",
        "\r\n",
        "# create the train data\r\n",
        "train = all_data[all_data['subject_id'] != 107]\r\n",
        "train = all_data[all_data['subject_id'] != 108]\r\n",
        "all_data = None\r\n",
        "\r\n",
        "# drop the columns id\r\n",
        "test = test.drop([\"subject_id\"], axis=1) # 107-108\r\n",
        "train = train.drop([\"subject_id\"], axis=1) # all the rest\r\n",
        "\r\n",
        "# split train and test to X and y\r\n",
        "X_train = train.drop(['activity_id'], axis=1).values\r\n",
        "X_test = test.drop(['activity_id'], axis=1).values\r\n",
        "y_train = train['activity_id'].values\r\n",
        "y_test = test['activity_id'].values\r\n",
        "\r\n",
        "# # make data scale to min max beetwin 0 to 1\r\n",
        "# min_max_scaler = MinMaxScaler()\r\n",
        "# min_max_scaler.fit(X_train)\r\n",
        "# min_max_scaler.fit(X_test)\r\n",
        "# X_train = min_max_scaler.transform(X_train)\r\n",
        "# X_test = min_max_scaler.transform(X_test)\r\n",
        "\r\n"
      ],
      "execution_count": null,
      "outputs": []
    }
  ]
}