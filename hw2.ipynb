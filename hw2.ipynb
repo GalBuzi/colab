{
  "nbformat": 4,
  "nbformat_minor": 0,
  "metadata": {
    "colab": {
      "name": "hw2.ipynb",
      "provenance": [],
      "collapsed_sections": [],
      "authorship_tag": "ABX9TyP6NjK5MjxBeLYHJJgB2CZG",
      "include_colab_link": true
    },
    "kernelspec": {
      "name": "python3",
      "display_name": "Python 3"
    },
    "accelerator": "GPU"
  },
  "cells": [
    {
      "cell_type": "markdown",
      "metadata": {
        "id": "view-in-github",
        "colab_type": "text"
      },
      "source": [
        "<a href=\"https://colab.research.google.com/github/GalBuzi/colab/blob/main/hw2.ipynb\" target=\"_parent\"><img src=\"https://colab.research.google.com/assets/colab-badge.svg\" alt=\"Open In Colab\"/></a>"
      ]
    },
    {
      "cell_type": "code",
      "metadata": {
        "colab": {
          "base_uri": "https://localhost:8080/"
        },
        "id": "oDtiAcC_rMYd",
        "outputId": "19dec8ae-1cf9-4dc2-81b8-49359402d571"
      },
      "source": [
        "from google.colab import drive\n",
        "from google.colab import files\n",
        "\n",
        "import os\n",
        "import nltk\n",
        "import pandas as pd\n",
        "import numpy as np\n",
        "import string\n",
        "import pprint\n",
        "import matplotlib.pyplot as plt\n",
        "import re\n",
        "import operator\n",
        "from collections import Counter, OrderedDict\n",
        "from nltk.tokenize import word_tokenize\n",
        "from nltk.stem import PorterStemmer\n",
        "from sklearn.model_selection import train_test_split\n",
        "from nltk.corpus import stopwords\n",
        "from nltk.stem.wordnet import WordNetLemmatizer\n",
        "from sklearn.feature_extraction.text import CountVectorizer\n",
        "\n",
        "\n",
        "\n",
        "drive.mount('gdrive')"
      ],
      "execution_count": 47,
      "outputs": [
        {
          "output_type": "stream",
          "text": [
            "Drive already mounted at gdrive; to attempt to forcibly remount, call drive.mount(\"gdrive\", force_remount=True).\n"
          ],
          "name": "stdout"
        }
      ]
    },
    {
      "cell_type": "markdown",
      "metadata": {
        "id": "TYCdqI1EsSI8"
      },
      "source": [
        "**Read Data and split it :**"
      ]
    },
    {
      "cell_type": "code",
      "metadata": {
        "colab": {
          "base_uri": "https://localhost:8080/"
        },
        "id": "gW8lLEzcrmUU",
        "outputId": "5854f407-8968-44b0-a438-9a1ca9d13ce3"
      },
      "source": [
        "nltk.download('punkt')\n",
        "nltk.download('stopwords')\n",
        "nltk.download('wordnet')\n",
        "nltk.download('sentiwordnet')\n",
        "nltk.download('averaged_perceptron_tagger')\n",
        "\n",
        "# csv_file = pd.read_csv(\"gdrive/My Drive/small_imdb_data.csv\")\n",
        "csv_file = pd.read_csv(\"gdrive/My Drive/IMDB Dataset.csv\")\n",
        "\n",
        "nltk_stop_words = stopwords.words('english')\n",
        "\n",
        "# split to train and test\n",
        "# y = csv_file.sentiment\n",
        "# x = csv_file.drop('sentiment', axis=1)\n",
        "# x_train, x_test, y_train, y_test = train_test_split(x, y, test_size=0.5)\n",
        "# y_train\n",
        "\n",
        "print(csv_file.shape[0])"
      ],
      "execution_count": 48,
      "outputs": [
        {
          "output_type": "stream",
          "text": [
            "[nltk_data] Downloading package punkt to /root/nltk_data...\n",
            "[nltk_data]   Package punkt is already up-to-date!\n",
            "[nltk_data] Downloading package stopwords to /root/nltk_data...\n",
            "[nltk_data]   Package stopwords is already up-to-date!\n",
            "[nltk_data] Downloading package wordnet to /root/nltk_data...\n",
            "[nltk_data]   Package wordnet is already up-to-date!\n",
            "[nltk_data] Downloading package sentiwordnet to /root/nltk_data...\n",
            "[nltk_data]   Package sentiwordnet is already up-to-date!\n",
            "[nltk_data] Downloading package averaged_perceptron_tagger to\n",
            "[nltk_data]     /root/nltk_data...\n",
            "[nltk_data]   Package averaged_perceptron_tagger is already up-to-\n",
            "[nltk_data]       date!\n",
            "50000\n"
          ],
          "name": "stdout"
        }
      ]
    },
    {
      "cell_type": "markdown",
      "metadata": {
        "id": "hMYOaaqMscMM"
      },
      "source": [
        "**Data Prepartion:**"
      ]
    },
    {
      "cell_type": "code",
      "metadata": {
        "id": "xMq0-QH949Ol"
      },
      "source": [
        "def clean_and_normalize_review_text(review):\n",
        "    # remove tags\n",
        "    clean_tags = re.compile('<.*?>')\n",
        "    re_negation = re.compile(\"n't \")\n",
        "    tokens1 = re.sub(clean_tags, '', review)\n",
        "    tokens1 = re_negation.sub(\" not \", tokens1)\n",
        "\n",
        "    # create bi-grams\n",
        "    bigram_vectorizer = CountVectorizer(ngram_range=(1, 2), token_pattern=r'\\b\\w+\\b', min_df=1)\n",
        "    analyze = bigram_vectorizer.build_analyzer()\n",
        "    tokens2 = analyze(tokens1)\n",
        "\n",
        "    # split into words\n",
        "    # tokens2 = word_tokenize(tokens1)\n",
        "\n",
        "    # convert to lower case\n",
        "    tokens3 = [w.lower() for w in tokens2]\n",
        "\n",
        "    # remove punctuation\n",
        "    table = str.maketrans('', '', string.punctuation)\n",
        "    tokens4 = [w.translate(table) for w in tokens3]\n",
        "\n",
        "    # remove remaining tokens that are not alphabetic\n",
        "    tokens5 = [word for word in tokens4 if word != ' ' and all(x.isalpha() or x.isspace() for x in word)]\n",
        "\n",
        "    # filter out stop words\n",
        "    stop_words = set(stopwords.words('english'))\n",
        "    # tokens6 = [w for w in tokens5 if w not in stop_words]\n",
        "    tokens6 = []\n",
        "    for w in tokens5:\n",
        "        check = w.split(' ')\n",
        "        if len(check) == 1:\n",
        "            if w not in stop_words:\n",
        "                tokens6.append(w)\n",
        "        elif len(check) == 2: \n",
        "            if check[0] in stop_words and check[1] in stop_words:\n",
        "                continue\n",
        "            else:\n",
        "                tokens6.append(w)\n",
        "\n",
        "\n",
        "    # lemmatization\n",
        "    lemma = WordNetLemmatizer()\n",
        "    tokens7 = [lemma.lemmatize(word) for word in tokens6]\n",
        "\n",
        "    return tokens7"
      ],
      "execution_count": 49,
      "outputs": []
    },
    {
      "cell_type": "code",
      "metadata": {
        "id": "mJJfCZhW5LDW"
      },
      "source": [
        "# cleaning data text\n",
        "for index, row in csv_file.iterrows():\n",
        "  csv_file.loc[index,'review'] = clean_and_normalize_review_text(row['review'])\n",
        "  csv_file.loc[index,'review_text'] = ' '.join( csv_file.loc[index,'review'] )\n",
        "\n",
        "# train_data.drop('review', axis='columns', inplace=True)\n"
      ],
      "execution_count": 50,
      "outputs": []
    },
    {
      "cell_type": "code",
      "metadata": {
        "colab": {
          "base_uri": "https://localhost:8080/"
        },
        "id": "Bo-Cf0juwLtp",
        "outputId": "53d690ab-92dc-48f9-8cf4-4a8e881832b1"
      },
      "source": [
        "# Explore train set reviews:\n",
        "\n",
        "train_sentiment = csv_file['sentiment'].to_frame(name='sentiment')\n",
        "\n",
        "#number of positive/negative reviews in train set:\n",
        "pos_count = train_sentiment[train_sentiment['sentiment'] == 'positive'].count()\n",
        "neg_count = train_sentiment[train_sentiment['sentiment'] == 'negative'].count()\n",
        "print(\"number of positive reviews in train set: \" + str(pos_count))\n",
        "print(\"number of negative reviews in train set: \" + str(neg_count))\n",
        "\n"
      ],
      "execution_count": 51,
      "outputs": [
        {
          "output_type": "stream",
          "text": [
            "number of positive reviews in train set: sentiment    25000\n",
            "dtype: int64\n",
            "number of negative reviews in train set: sentiment    25000\n",
            "dtype: int64\n"
          ],
          "name": "stdout"
        }
      ]
    },
    {
      "cell_type": "code",
      "metadata": {
        "colab": {
          "base_uri": "https://localhost:8080/",
          "height": 419
        },
        "id": "7xXxo2CXGWZ4",
        "outputId": "72df35d1-9735-49c1-e207-ccff26f258ce"
      },
      "source": [
        "# creating positive and negative dataframes from the train set\n",
        "positive_reviews_train = csv_file[csv_file['sentiment'] == 'positive']\n",
        "negative_reviews_train = csv_file[csv_file['sentiment'] == 'negative']\n",
        "positive_reviews_train"
      ],
      "execution_count": 52,
      "outputs": [
        {
          "output_type": "execute_result",
          "data": {
            "text/html": [
              "<div>\n",
              "<style scoped>\n",
              "    .dataframe tbody tr th:only-of-type {\n",
              "        vertical-align: middle;\n",
              "    }\n",
              "\n",
              "    .dataframe tbody tr th {\n",
              "        vertical-align: top;\n",
              "    }\n",
              "\n",
              "    .dataframe thead th {\n",
              "        text-align: right;\n",
              "    }\n",
              "</style>\n",
              "<table border=\"1\" class=\"dataframe\">\n",
              "  <thead>\n",
              "    <tr style=\"text-align: right;\">\n",
              "      <th></th>\n",
              "      <th>review</th>\n",
              "      <th>sentiment</th>\n",
              "      <th>review_text</th>\n",
              "    </tr>\n",
              "  </thead>\n",
              "  <tbody>\n",
              "    <tr>\n",
              "      <th>0</th>\n",
              "      <td>[one, reviewer, mentioned, watching, oz, episo...</td>\n",
              "      <td>positive</td>\n",
              "      <td>one reviewer mentioned watching oz episode hoo...</td>\n",
              "    </tr>\n",
              "    <tr>\n",
              "      <th>1</th>\n",
              "      <td>[wonderful, little, production, filming, techn...</td>\n",
              "      <td>positive</td>\n",
              "      <td>wonderful little production filming technique ...</td>\n",
              "    </tr>\n",
              "    <tr>\n",
              "      <th>2</th>\n",
              "      <td>[thought, wonderful, way, spend, time, hot, su...</td>\n",
              "      <td>positive</td>\n",
              "      <td>thought wonderful way spend time hot summer we...</td>\n",
              "    </tr>\n",
              "    <tr>\n",
              "      <th>4</th>\n",
              "      <td>[petter, mattei, love, time, money, visually, ...</td>\n",
              "      <td>positive</td>\n",
              "      <td>petter mattei love time money visually stunnin...</td>\n",
              "    </tr>\n",
              "    <tr>\n",
              "      <th>5</th>\n",
              "      <td>[probably, time, favorite, movie, story, selfl...</td>\n",
              "      <td>positive</td>\n",
              "      <td>probably time favorite movie story selflessnes...</td>\n",
              "    </tr>\n",
              "    <tr>\n",
              "      <th>...</th>\n",
              "      <td>...</td>\n",
              "      <td>...</td>\n",
              "      <td>...</td>\n",
              "    </tr>\n",
              "    <tr>\n",
              "      <th>49983</th>\n",
              "      <td>[loved, fan, original, series, always, wondere...</td>\n",
              "      <td>positive</td>\n",
              "      <td>loved fan original series always wondered back...</td>\n",
              "    </tr>\n",
              "    <tr>\n",
              "      <th>49985</th>\n",
              "      <td>[imaginary, hero, clearly, best, film, year, c...</td>\n",
              "      <td>positive</td>\n",
              "      <td>imaginary hero clearly best film year complete...</td>\n",
              "    </tr>\n",
              "    <tr>\n",
              "      <th>49989</th>\n",
              "      <td>[got, one, week, ago, love, modern, light, fil...</td>\n",
              "      <td>positive</td>\n",
              "      <td>got one week ago love modern light filled true...</td>\n",
              "    </tr>\n",
              "    <tr>\n",
              "      <th>49992</th>\n",
              "      <td>[john, garfield, play, marine, blinded, grenad...</td>\n",
              "      <td>positive</td>\n",
              "      <td>john garfield play marine blinded grenade figh...</td>\n",
              "    </tr>\n",
              "    <tr>\n",
              "      <th>49995</th>\n",
              "      <td>[thought, movie, right, good, job, creative, o...</td>\n",
              "      <td>positive</td>\n",
              "      <td>thought movie right good job creative original...</td>\n",
              "    </tr>\n",
              "  </tbody>\n",
              "</table>\n",
              "<p>25000 rows × 3 columns</p>\n",
              "</div>"
            ],
            "text/plain": [
              "                                                  review  ...                                        review_text\n",
              "0      [one, reviewer, mentioned, watching, oz, episo...  ...  one reviewer mentioned watching oz episode hoo...\n",
              "1      [wonderful, little, production, filming, techn...  ...  wonderful little production filming technique ...\n",
              "2      [thought, wonderful, way, spend, time, hot, su...  ...  thought wonderful way spend time hot summer we...\n",
              "4      [petter, mattei, love, time, money, visually, ...  ...  petter mattei love time money visually stunnin...\n",
              "5      [probably, time, favorite, movie, story, selfl...  ...  probably time favorite movie story selflessnes...\n",
              "...                                                  ...  ...                                                ...\n",
              "49983  [loved, fan, original, series, always, wondere...  ...  loved fan original series always wondered back...\n",
              "49985  [imaginary, hero, clearly, best, film, year, c...  ...  imaginary hero clearly best film year complete...\n",
              "49989  [got, one, week, ago, love, modern, light, fil...  ...  got one week ago love modern light filled true...\n",
              "49992  [john, garfield, play, marine, blinded, grenad...  ...  john garfield play marine blinded grenade figh...\n",
              "49995  [thought, movie, right, good, job, creative, o...  ...  thought movie right good job creative original...\n",
              "\n",
              "[25000 rows x 3 columns]"
            ]
          },
          "metadata": {
            "tags": []
          },
          "execution_count": 52
        }
      ]
    },
    {
      "cell_type": "code",
      "metadata": {
        "colab": {
          "base_uri": "https://localhost:8080/",
          "height": 317
        },
        "id": "M5pckuljX6ly",
        "outputId": "4b7f1be3-677a-4bbd-9750-3b9879eaf162"
      },
      "source": [
        "# show top 10 terms in positive reviews\n",
        "corpus_pos = list(positive_reviews_train['review'])\n",
        "dict_words = {}\n",
        "for doc in corpus_pos:\n",
        "  for word in doc:\n",
        "    if word in dict_words.keys():\n",
        "      dict_words[word] = dict_words[word] + 1\n",
        "    else:\n",
        "      dict_words[word] = 1\n",
        "\n",
        "dict_words_top10 = sorted(dict_words.items(), key=operator.itemgetter(1),reverse=True)\n",
        "dict_words_top10 = dict_words_top10[:10]\n",
        "plt.barh(*zip(*dict_words_top10))\n",
        "plt.title('Most frequent words in Positive reviews')\n",
        "plt.xlabel('word frequency')\n",
        "plt.xticks(fontsize=10, rotation=90)\n",
        "plt.yticks(fontsize=16)\n",
        "plt.show()"
      ],
      "execution_count": 53,
      "outputs": [
        {
          "output_type": "display_data",
          "data": {
            "image/png": "[encoded data removed]",
            "text/plain": [
              "<Figure size 432x288 with 1 Axes>"
            ]
          },
          "metadata": {
            "tags": [],
            "needs_background": "light"
          }
        }
      ]
    },
    {
      "cell_type": "code",
      "metadata": {
        "colab": {
          "base_uri": "https://localhost:8080/",
          "height": 278
        },
        "id": "IpevwMgukpzO",
        "outputId": "f1070151-b3b2-4d13-b2bd-6cf7b70d4177"
      },
      "source": [
        "# Term Distribution - Positive - highest 10K terms\r\n",
        "\r\n",
        "import math\r\n",
        "dict_words = {k: math.log(v) for k, v in dict_words.items()}\r\n",
        "dict_words = sorted(dict_words.items(), key=operator.itemgetter(1),reverse=True)\r\n",
        "dict_words = dict_words[:10000]\r\n",
        "\r\n",
        "plt.bar(*zip(*dict_words))\r\n",
        "plt.title('Term Distribution in Positive reviews')\r\n",
        "plt.xlabel('Terms')\r\n",
        "plt.ylabel('log(term frequency)')\r\n",
        "plt.xticks([], [])\r\n",
        "plt.yticks(fontsize=16)\r\n",
        "plt.show()"
      ],
      "execution_count": 54,
      "outputs": [
        {
          "output_type": "display_data",
          "data": {
            "image/png": "[encoded data removed]",
            "text/plain": [
              "<Figure size 432x288 with 1 Axes>"
            ]
          },
          "metadata": {
            "tags": [],
            "needs_background": "light"
          }
        }
      ]
    },
    {
      "cell_type": "code",
      "metadata": {
        "colab": {
          "base_uri": "https://localhost:8080/",
          "height": 317
        },
        "id": "2IpqZiwFyAW8",
        "outputId": "e3d405fc-b70d-41a4-a415-682a1f87b679"
      },
      "source": [
        "# show top 10 terms in negative reviews\n",
        "\n",
        "corpus_neg = list(negative_reviews_train['review'])\n",
        "dict_words = {}\n",
        "for doc in corpus_neg:\n",
        "  for word in doc:\n",
        "    if word in dict_words.keys():\n",
        "      dict_words[word] = dict_words[word] + 1\n",
        "    else:\n",
        "      dict_words[word] = 1\n",
        "\n",
        "dict_words_top10 = sorted(dict_words.items(), key=operator.itemgetter(1),reverse=True)\n",
        "dict_words_top10 = dict_words_top10[:10]\n",
        "plt.barh(*zip(*dict_words_top10))\n",
        "plt.title('Most frequent words in Negative reviews')\n",
        "plt.xlabel('word frequency')\n",
        "plt.xticks(fontsize=10, rotation=90)\n",
        "plt.yticks(fontsize=16)\n",
        "plt.show()"
      ],
      "execution_count": 55,
      "outputs": [
        {
          "output_type": "display_data",
          "data": {
            "image/png": "[encoded data removed]",
            "text/plain": [
              "<Figure size 432x288 with 1 Axes>"
            ]
          },
          "metadata": {
            "tags": [],
            "needs_background": "light"
          }
        }
      ]
    },
    {
      "cell_type": "code",
      "metadata": {
        "colab": {
          "base_uri": "https://localhost:8080/",
          "height": 278
        },
        "id": "2ypJrRKslnlR",
        "outputId": "b2572fe3-2ade-4416-dd85-2d98f1eaead2"
      },
      "source": [
        "# Term Distribution - Negative - highest 10K terms\r\n",
        "\r\n",
        "import math\r\n",
        "dict_words = {k: math.log(v) for k, v in dict_words.items()}\r\n",
        "dict_words = sorted(dict_words.items(), key=operator.itemgetter(1),reverse=True)\r\n",
        "dict_words = dict_words[:10000]\r\n",
        "\r\n",
        "plt.bar(*zip(*dict_words))\r\n",
        "plt.title('Term Distribution in Negative reviews')\r\n",
        "plt.xlabel('Terms')\r\n",
        "plt.ylabel('log(term frequency)')\r\n",
        "plt.xticks([], [])\r\n",
        "plt.yticks(fontsize=16)\r\n",
        "plt.show()"
      ],
      "execution_count": 56,
      "outputs": [
        {
          "output_type": "display_data",
          "data": {
            "image/png": "[encoded data removed]",
            "text/plain": [
              "<Figure size 432x288 with 1 Axes>"
            ]
          },
          "metadata": {
            "tags": [],
            "needs_background": "light"
          }
        }
      ]
    },
    {
      "cell_type": "code",
      "metadata": {
        "colab": {
          "base_uri": "https://localhost:8080/",
          "height": 225
        },
        "id": "r6QbOdAJF3Iq",
        "outputId": "b99ed22d-2d8b-4ad6-a124-1c7bfcee7284"
      },
      "source": [
        "# Get mean of positive and negative reviews\r\n",
        "avg_pos_reviews = csv_file[csv_file.sentiment=='positive'].review_text.apply(lambda x: len(x.split())).mean()\r\n",
        "avg_neg_reviews = csv_file[csv_file.sentiment=='negative'].review_text.apply(lambda x: len(x.split())).mean()\r\n",
        "\r\n",
        "plt.figure(figsize=(10, 3))\r\n",
        "plt.barh(['Positive', 'Negative'], [avg_pos_reviews, avg_neg_reviews], height=0.5)\r\n",
        "# plt.xticks(np.arange(0, 300, 25))\r\n",
        "plt.xlabel('Average Number of words')\r\n",
        "plt.ylabel('Sentiment')\r\n",
        "plt.show()"
      ],
      "execution_count": 57,
      "outputs": [
        {
          "output_type": "display_data",
          "data": {
            "image/png": "[encoded data removed]",
            "text/plain": [
              "<Figure size 720x216 with 1 Axes>"
            ]
          },
          "metadata": {
            "tags": [],
            "needs_background": "light"
          }
        }
      ]
    },
    {
      "cell_type": "markdown",
      "metadata": {
        "id": "fxPSbUA61RfT"
      },
      "source": [
        "Explain expected challenges:\n",
        "1. as we can see from both graphs, the unigrams and bigrams are quite similar because the reviewers tend to mention words related to the movies and the story more often\n",
        "2. each reviewer has his own opinion about the movie and uses different vocabulary to describe his thoughts and feelings which makes it difficult for us to find common and similar descripsions.\n",
        "3. we can see that in the negative reviews that both 'bad' and 'good' are very common, which is very confusing to understand and decide whether the review is positive or negative\n",
        "4. positive reviews has the same length as negative reviews in average numnber of words.\n"
      ]
    },
    {
      "cell_type": "markdown",
      "metadata": {
        "id": "jz3z3dh1jU81"
      },
      "source": [
        "# Q2:"
      ]
    },
    {
      "cell_type": "code",
      "metadata": {
        "colab": {
          "base_uri": "https://localhost:8080/",
          "height": 419
        },
        "id": "mXh_QllINNEX",
        "outputId": "3020a769-7c40-4a58-8129-ab88cd80add6"
      },
      "source": [
        "split=int(0.5*csv_file.shape[0])\r\n",
        "train_data = csv_file[0:split]\r\n",
        "valid_data = csv_file[split:]\r\n",
        "train_data"
      ],
      "execution_count": 58,
      "outputs": [
        {
          "output_type": "execute_result",
          "data": {
            "text/html": [
              "<div>\n",
              "<style scoped>\n",
              "    .dataframe tbody tr th:only-of-type {\n",
              "        vertical-align: middle;\n",
              "    }\n",
              "\n",
              "    .dataframe tbody tr th {\n",
              "        vertical-align: top;\n",
              "    }\n",
              "\n",
              "    .dataframe thead th {\n",
              "        text-align: right;\n",
              "    }\n",
              "</style>\n",
              "<table border=\"1\" class=\"dataframe\">\n",
              "  <thead>\n",
              "    <tr style=\"text-align: right;\">\n",
              "      <th></th>\n",
              "      <th>review</th>\n",
              "      <th>sentiment</th>\n",
              "      <th>review_text</th>\n",
              "    </tr>\n",
              "  </thead>\n",
              "  <tbody>\n",
              "    <tr>\n",
              "      <th>0</th>\n",
              "      <td>[one, reviewer, mentioned, watching, oz, episo...</td>\n",
              "      <td>positive</td>\n",
              "      <td>one reviewer mentioned watching oz episode hoo...</td>\n",
              "    </tr>\n",
              "    <tr>\n",
              "      <th>1</th>\n",
              "      <td>[wonderful, little, production, filming, techn...</td>\n",
              "      <td>positive</td>\n",
              "      <td>wonderful little production filming technique ...</td>\n",
              "    </tr>\n",
              "    <tr>\n",
              "      <th>2</th>\n",
              "      <td>[thought, wonderful, way, spend, time, hot, su...</td>\n",
              "      <td>positive</td>\n",
              "      <td>thought wonderful way spend time hot summer we...</td>\n",
              "    </tr>\n",
              "    <tr>\n",
              "      <th>3</th>\n",
              "      <td>[basically, family, little, boy, jake, think, ...</td>\n",
              "      <td>negative</td>\n",
              "      <td>basically family little boy jake think zombie ...</td>\n",
              "    </tr>\n",
              "    <tr>\n",
              "      <th>4</th>\n",
              "      <td>[petter, mattei, love, time, money, visually, ...</td>\n",
              "      <td>positive</td>\n",
              "      <td>petter mattei love time money visually stunnin...</td>\n",
              "    </tr>\n",
              "    <tr>\n",
              "      <th>...</th>\n",
              "      <td>...</td>\n",
              "      <td>...</td>\n",
              "      <td>...</td>\n",
              "    </tr>\n",
              "    <tr>\n",
              "      <th>24995</th>\n",
              "      <td>[movie, real, torture, fest, sit, first, mista...</td>\n",
              "      <td>negative</td>\n",
              "      <td>movie real torture fest sit first mistake trea...</td>\n",
              "    </tr>\n",
              "    <tr>\n",
              "      <th>24996</th>\n",
              "      <td>[john, wayne, albert, dekker, compete, oil, ri...</td>\n",
              "      <td>negative</td>\n",
              "      <td>john wayne albert dekker compete oil right ind...</td>\n",
              "    </tr>\n",
              "    <tr>\n",
              "      <th>24997</th>\n",
              "      <td>[tarantino, remarked, melodrama, called, backs...</td>\n",
              "      <td>positive</td>\n",
              "      <td>tarantino remarked melodrama called backstreet...</td>\n",
              "    </tr>\n",
              "    <tr>\n",
              "      <th>24998</th>\n",
              "      <td>[aah, yes, workout, show, great, many, woman, ...</td>\n",
              "      <td>positive</td>\n",
              "      <td>aah yes workout show great many woman get shap...</td>\n",
              "    </tr>\n",
              "    <tr>\n",
              "      <th>24999</th>\n",
              "      <td>[film, never, made, honestly, must, admit, saw...</td>\n",
              "      <td>negative</td>\n",
              "      <td>film never made honestly must admit saw seriou...</td>\n",
              "    </tr>\n",
              "  </tbody>\n",
              "</table>\n",
              "<p>25000 rows × 3 columns</p>\n",
              "</div>"
            ],
            "text/plain": [
              "                                                  review  ...                                        review_text\n",
              "0      [one, reviewer, mentioned, watching, oz, episo...  ...  one reviewer mentioned watching oz episode hoo...\n",
              "1      [wonderful, little, production, filming, techn...  ...  wonderful little production filming technique ...\n",
              "2      [thought, wonderful, way, spend, time, hot, su...  ...  thought wonderful way spend time hot summer we...\n",
              "3      [basically, family, little, boy, jake, think, ...  ...  basically family little boy jake think zombie ...\n",
              "4      [petter, mattei, love, time, money, visually, ...  ...  petter mattei love time money visually stunnin...\n",
              "...                                                  ...  ...                                                ...\n",
              "24995  [movie, real, torture, fest, sit, first, mista...  ...  movie real torture fest sit first mistake trea...\n",
              "24996  [john, wayne, albert, dekker, compete, oil, ri...  ...  john wayne albert dekker compete oil right ind...\n",
              "24997  [tarantino, remarked, melodrama, called, backs...  ...  tarantino remarked melodrama called backstreet...\n",
              "24998  [aah, yes, workout, show, great, many, woman, ...  ...  aah yes workout show great many woman get shap...\n",
              "24999  [film, never, made, honestly, must, admit, saw...  ...  film never made honestly must admit saw seriou...\n",
              "\n",
              "[25000 rows x 3 columns]"
            ]
          },
          "metadata": {
            "tags": []
          },
          "execution_count": 58
        }
      ]
    },
    {
      "cell_type": "code",
      "metadata": {
        "colab": {
          "base_uri": "https://localhost:8080/"
        },
        "id": "R8apAkTZBKeA",
        "outputId": "d5cae356-175d-4552-b6a8-e9f5e4546a5d"
      },
      "source": [
        "tagged_list = []\n",
        "\n",
        "review_text_sentences = list(csv_file['review_text'])\n",
        "print(review_text_sentences[0])\n",
        "stokens = [nltk.word_tokenize(sentence) for sentence in review_text_sentences]\n",
        "\n",
        "for stoken in stokens:        \n",
        "     tagged_list.append(nltk.pos_tag(stoken))\n",
        "\n",
        "# tagged_list"
      ],
      "execution_count": 59,
      "outputs": [
        {
          "output_type": "stream",
          "text": [
            "one reviewer mentioned watching oz episode hooked right exactly happened first thing struck oz brutality unflinching scene violence set right word go trust show faint hearted timid show pull punch regard drug sex violence hardcore classic use word called oz nickname given oswald maximum security state penitentary focus mainly emerald city experimental section prison cell glass front face inwards privacy high agenda em city home many aryan muslim gangsta latino christian italian irish scuffle death stare dodgy dealing shady agreement never far away would say main appeal show due fact go show would dare forget pretty picture painted mainstream audience forget charm forget romance oz mess around first episode ever saw struck nasty surreal could say ready watched developed taste oz got accustomed high level graphic violence violence injustice crooked guard sold nickel inmate kill order get away well mannered middle class inmate turned prison bitch due lack street skill prison experience watching oz may become comfortable uncomfortable viewing thats get touch darker side one of other reviewers reviewers has has mentioned mentioned that after watching watching just oz episode episode you be hooked hooked they are right right as is exactly exactly what what happened happened with the first first thing thing that that struck struck me about oz oz was its brutality brutality and and unflinching unflinching scenes scenes of of violence violence which which set set in in right right from the word word go go trust trust me a show show for the faint faint hearted hearted or or timid timid this this show show pulls pulls no no punches punches with with regards regards to to drugs drugs sex sex or or violence violence its is hardcore hardcore in the classic classic use use of the word word it is called called oz oz as the nickname nickname given given to the oswald oswald maximum maximum security security state state penitentary penitentary it it focuses focuses mainly mainly on on emerald emerald city city an an experimental experimental section section of the prison prison where the cells cells have have glass glass fronts fronts and and face face inwards inwards so so privacy privacy is not high high on the agenda agenda em em city city is is home home to to many many aryans aryans muslims muslims gangstas gangstas latinos latinos christians christians italians italians irish irish and so scuffles scuffles death death stares stares dodgy dodgy dealings dealings and and shady shady agreements agreements are are never never far far away away i i would would say say the the main main appeal appeal of the show show is is due due to the fact fact that it goes goes where other shows shows would would not not dare dare forget forget pretty pretty pictures pictures painted painted for for mainstream mainstream audiences audiences forget forget charm charm forget forget romance romance oz oz does not mess mess around around the the first first episode episode i i ever ever saw saw struck struck me so nasty nasty it was surreal surreal i i could could not not say say i was ready ready for i watched watched more i developed developed a a taste taste for for oz oz and and got got accustomed accustomed to the high high levels levels of of graphic graphic violence violence not just violence violence but but injustice injustice crooked crooked guards guards who be sold sold out a nickel nickel inmates inmates who ll kill kill on on order order and and get get away away with it well well mannered mannered middle middle class class inmates inmates being being turned turned into into prison prison bitches bitches due due to their lack lack of of street street skills skills or or prison prison experience experience watching watching oz oz you you may may become become comfortable comfortable with is uncomfortable uncomfortable viewing viewing thats thats if can get get in in touch touch with your darker darker side\n"
          ],
          "name": "stdout"
        }
      ]
    },
    {
      "cell_type": "code",
      "metadata": {
        "id": "o8NrMOD0PqAj"
      },
      "source": [
        "from nltk.corpus import sentiwordnet as swn\n",
        "\n",
        "lemmatizer_obj = nltk.WordNetLemmatizer()\n",
        "score_list=[]\n",
        "\n",
        "for idx,taggedsent in enumerate(tagged_list):  #iterate over all tokens\n",
        "    score_list.append([])\n",
        "    for idx2,t in enumerate(taggedsent):  #t[0] word, t[1] pos tag\n",
        "        newtag=''\n",
        "        lemmatized=lemmatizer_obj.lemmatize(t[0])\n",
        "        if t[1].startswith('NN'):\n",
        "            newtag='n'\n",
        "        elif t[1].startswith('JJ'):\n",
        "            newtag='a'\n",
        "        elif t[1].startswith('V'):\n",
        "            newtag='v'\n",
        "        elif t[1].startswith('R'):\n",
        "            newtag='r'\n",
        "        else:\n",
        "            newtag=''       \n",
        "        if newtag!='' :    \n",
        "            synsets = list(swn.senti_synsets(lemmatized, newtag))\n",
        "            # print(lemmatized) # great\n",
        "            # print(synsets) # [SentiSynset('great.s.01'), SentiSynset('great.s.02'), SentiSynset('great.s.03'), SentiSynset('bang-up.s.01'), SentiSynset('capital.s.03'), SentiSynset('big.s.13')]\n",
        "            #synsets contains for each token the probability for negative, positive and objective\n",
        "            #Getting average of all possible sentiments, as you requested        \n",
        "            score=0\n",
        "            if len(synsets)>0 :\n",
        "                for syn in synsets:\n",
        "                    # print(\"positive score \",syn.pos_score(),\"negative score \",syn.neg_score(),\"objective score \",syn.obj_score())\n",
        "                    score+=syn.pos_score()-syn.neg_score()\n",
        "                score_list[idx].append(score/len(synsets))\n"
      ],
      "execution_count": 60,
      "outputs": []
    },
    {
      "cell_type": "code",
      "metadata": {
        "colab": {
          "base_uri": "https://localhost:8080/"
        },
        "id": "f3j01_VUTvwy",
        "outputId": "31f89f83-e1bf-4739-8d51-419029f00451"
      },
      "source": [
        "len(score_list)"
      ],
      "execution_count": 61,
      "outputs": [
        {
          "output_type": "execute_result",
          "data": {
            "text/plain": [
              "50000"
            ]
          },
          "metadata": {
            "tags": []
          },
          "execution_count": 61
        }
      ]
    },
    {
      "cell_type": "code",
      "metadata": {
        "colab": {
          "base_uri": "https://localhost:8080/"
        },
        "id": "ZVdlKeKrjldQ",
        "outputId": "e0569c25-7eca-4d0f-9c34-90600afd300d"
      },
      "source": [
        "sentence_sentiment=[]\n",
        "\n",
        "for score_sent in score_list:\n",
        "  sum_sentence_score = sum(score_sent)   \n",
        "  if len(score_sent) > 0:\n",
        "    sentence_sentiment.append(sum_sentence_score/len(score_sent))\n",
        "  else:\n",
        "    sentence_sentiment.append(0)\n",
        "\n",
        "print(len(sentence_sentiment))"
      ],
      "execution_count": 62,
      "outputs": [
        {
          "output_type": "stream",
          "text": [
            "50000\n"
          ],
          "name": "stdout"
        }
      ]
    },
    {
      "cell_type": "code",
      "metadata": {
        "id": "rYes9PqfpymE"
      },
      "source": [
        "csv_file['review_score'] = sentence_sentiment\n"
      ],
      "execution_count": 63,
      "outputs": []
    },
    {
      "cell_type": "code",
      "metadata": {
        "colab": {
          "base_uri": "https://localhost:8080/"
        },
        "id": "kISUIPJIq2ef",
        "outputId": "dec14248-2edf-4b15-c972-d2f8b969601c"
      },
      "source": [
        "accuracy_pos = csv_file[csv_file['sentiment'] == 'positive'][csv_file['review_score'] > 0 ]\n",
        "total_acc_pos = len(accuracy_pos)/pos_count\n",
        "\n",
        "accuracy_neg = csv_file[csv_file['sentiment'] == 'negative'][csv_file['review_score'] < 0 ]\n",
        "total_acc_neg = len(accuracy_neg)/neg_count\n",
        "\n",
        "print(total_acc_pos)\n",
        "print(total_acc_neg)\n",
        "print((len(accuracy_pos)+len(accuracy_neg))/(pos_count+neg_count))\n",
        "\n"
      ],
      "execution_count": 64,
      "outputs": [
        {
          "output_type": "stream",
          "text": [
            "sentiment    0.86024\n",
            "dtype: float64\n",
            "sentiment    0.49832\n",
            "dtype: float64\n",
            "sentiment    0.67928\n",
            "dtype: float64\n"
          ],
          "name": "stdout"
        },
        {
          "output_type": "stream",
          "text": [
            "/usr/local/lib/python3.6/dist-packages/ipykernel_launcher.py:1: UserWarning: Boolean Series key will be reindexed to match DataFrame index.\n",
            "  \"\"\"Entry point for launching an IPython kernel.\n",
            "/usr/local/lib/python3.6/dist-packages/ipykernel_launcher.py:4: UserWarning: Boolean Series key will be reindexed to match DataFrame index.\n",
            "  after removing the cwd from sys.path.\n"
          ],
          "name": "stderr"
        }
      ]
    }
  ]
}