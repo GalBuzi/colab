{
  "nbformat": 4,
  "nbformat_minor": 0,
  "metadata": {
    "colab": {
      "name": "hw2.ipynb",
      "provenance": [],
      "collapsed_sections": [],
      "include_colab_link": true
    },
    "kernelspec": {
      "name": "python3",
      "display_name": "Python 3"
    },
    "accelerator": "GPU"
  },
  "cells": [
    {
      "cell_type": "markdown",
      "metadata": {
        "id": "view-in-github",
        "colab_type": "text"
      },
      "source": [
        "<a href=\"https://colab.research.google.com/github/GalBuzi/colab/blob/main/hw2.ipynb\" target=\"_parent\"><img src=\"https://colab.research.google.com/assets/colab-badge.svg\" alt=\"Open In Colab\"/></a>"
      ]
    },
    {
      "cell_type": "code",
      "metadata": {
        "colab": {
          "base_uri": "https://localhost:8080/"
        },
        "id": "oDtiAcC_rMYd",
        "outputId": "2cb9391d-84f6-4b88-d6d2-aae0cfdb5b7d"
      },
      "source": [
        "from google.colab import drive\n",
        "from google.colab import files\n",
        "\n",
        "import os\n",
        "import nltk\n",
        "import pandas as pd\n",
        "import numpy as np\n",
        "import string\n",
        "import pprint\n",
        "import matplotlib.pyplot as plt\n",
        "import re\n",
        "import operator\n",
        "from collections import Counter, OrderedDict\n",
        "from nltk.tokenize import word_tokenize\n",
        "from nltk.stem import PorterStemmer\n",
        "from sklearn.model_selection import train_test_split\n",
        "from nltk.corpus import stopwords\n",
        "from nltk.stem.wordnet import WordNetLemmatizer\n",
        "from sklearn.feature_extraction.text import CountVectorizer\n",
        "\n",
        "\n",
        "\n",
        "drive.mount('gdrive')"
      ],
      "execution_count": 47,
      "outputs": [
        {
          "output_type": "stream",
          "text": [
            "Drive already mounted at gdrive; to attempt to forcibly remount, call drive.mount(\"gdrive\", force_remount=True).\n"
          ],
          "name": "stdout"
        }
      ]
    },
    {
      "cell_type": "markdown",
      "metadata": {
        "id": "TYCdqI1EsSI8"
      },
      "source": [
        "**Read Data and split it :**"
      ]
    },
    {
      "cell_type": "code",
      "metadata": {
        "colab": {
          "base_uri": "https://localhost:8080/"
        },
        "id": "gW8lLEzcrmUU",
        "outputId": "bd216bc3-fb23-4614-f6c5-ab6d3dedf1bc"
      },
      "source": [
        "nltk.download('punkt')\n",
        "nltk.download('stopwords')\n",
        "nltk.download('wordnet')\n",
        "nltk.download('sentiwordnet')\n",
        "nltk.download('averaged_perceptron_tagger')\n",
        "\n",
        "# csv_file = pd.read_csv(\"gdrive/My Drive/small_imdb_data.csv\")\n",
        "csv_file = pd.read_csv(\"gdrive/My Drive/IMDB Dataset.csv\")\n",
        "\n",
        "nltk_stop_words = stopwords.words('english')\n",
        "\n",
        "print(csv_file.shape[0])"
      ],
      "execution_count": 48,
      "outputs": [
        {
          "output_type": "stream",
          "text": [
            "[nltk_data] Downloading package punkt to /root/nltk_data...\n",
            "[nltk_data]   Package punkt is already up-to-date!\n",
            "[nltk_data] Downloading package stopwords to /root/nltk_data...\n",
            "[nltk_data]   Package stopwords is already up-to-date!\n",
            "[nltk_data] Downloading package wordnet to /root/nltk_data...\n",
            "[nltk_data]   Package wordnet is already up-to-date!\n",
            "[nltk_data] Downloading package sentiwordnet to /root/nltk_data...\n",
            "[nltk_data]   Package sentiwordnet is already up-to-date!\n",
            "[nltk_data] Downloading package averaged_perceptron_tagger to\n",
            "[nltk_data]     /root/nltk_data...\n",
            "[nltk_data]   Package averaged_perceptron_tagger is already up-to-\n",
            "[nltk_data]       date!\n",
            "50000\n"
          ],
          "name": "stdout"
        }
      ]
    },
    {
      "cell_type": "markdown",
      "metadata": {
        "id": "hMYOaaqMscMM"
      },
      "source": [
        "**Data Prepartion:**"
      ]
    },
    {
      "cell_type": "code",
      "metadata": {
        "id": "xMq0-QH949Ol"
      },
      "source": [
        "def clean_and_normalize_review_text(review):\n",
        "    # remove tags\n",
        "    clean_tags = re.compile('<.*?>')\n",
        "    re_negation = re.compile(\"n't \")\n",
        "    tokens1 = re.sub(clean_tags, '', review)\n",
        "    tokens1 = re_negation.sub(\" not \", tokens1)\n",
        "\n",
        "    # split into words\n",
        "    tokens2 = word_tokenize(tokens1)\n",
        "\n",
        "    # convert to lower case\n",
        "    tokens3 = [w.lower() for w in tokens2]\n",
        "\n",
        "    # remove punctuation\n",
        "    table = str.maketrans('', '', string.punctuation)\n",
        "    tokens4 = [w.translate(table) for w in tokens3]\n",
        "\n",
        "    # remove remaining tokens that are not alphabetic\n",
        "    tokens5 = [word for word in tokens4 if word != ' ' and all(x.isalpha() or x.isspace() for x in word)]\n",
        "\n",
        "    # filter out stop words\n",
        "    stop_words = set(stopwords.words('english'))\n",
        "    # tokens6 = [w for w in tokens5 if w not in stop_words]\n",
        "    tokens6 = []\n",
        "    for w in tokens5:\n",
        "        check = w.split(' ')\n",
        "        if len(check) == 1:\n",
        "            if w not in stop_words:\n",
        "                tokens6.append(w)\n",
        "        elif len(check) == 2: \n",
        "            if check[0] in stop_words and check[1] in stop_words:\n",
        "                continue\n",
        "            else:\n",
        "                tokens6.append(w)\n",
        "\n",
        "\n",
        "    # lemmatization\n",
        "    lemma = WordNetLemmatizer()\n",
        "    tokens7 = [lemma.lemmatize(word) for word in tokens6]\n",
        "    tokens7 = ' '.join(tokens7)\n",
        "    # create bi-grams\n",
        "    bigram_vectorizer = CountVectorizer(ngram_range=(1, 2), token_pattern=r'\\b\\w+\\b', min_df=1)\n",
        "    analyze = bigram_vectorizer.build_analyzer()\n",
        "    tokens8 = analyze(tokens7)\n",
        "\n",
        "    return tokens8"
      ],
      "execution_count": 49,
      "outputs": []
    },
    {
      "cell_type": "code",
      "metadata": {
        "id": "mJJfCZhW5LDW"
      },
      "source": [
        "# cleaning data text\n",
        "for index, row in csv_file.iterrows():\n",
        "  csv_file.loc[index,'review'] = clean_and_normalize_review_text(row['review'])\n",
        "  csv_file.loc[index,'review_text'] = ' '.join( csv_file.loc[index,'review'] )\n",
        "\n",
        "# train_data.drop('review', axis='columns', inplace=True)\n"
      ],
      "execution_count": 50,
      "outputs": []
    },
    {
      "cell_type": "code",
      "metadata": {
        "colab": {
          "base_uri": "https://localhost:8080/"
        },
        "id": "Bo-Cf0juwLtp",
        "outputId": "c20376cd-39d3-4e13-c132-bf9b4a8f153e"
      },
      "source": [
        "# Explore train set reviews:\n",
        "\n",
        "train_sentiment = csv_file['sentiment'].to_frame(name='sentiment')\n",
        "\n",
        "#number of positive/negative reviews in train set:\n",
        "pos_count = train_sentiment[train_sentiment['sentiment'] == 'positive'].count()\n",
        "neg_count = train_sentiment[train_sentiment['sentiment'] == 'negative'].count()\n",
        "print(\"number of positive reviews in train set: \" + str(pos_count))\n",
        "print(\"number of negative reviews in train set: \" + str(neg_count))\n",
        "\n"
      ],
      "execution_count": 51,
      "outputs": [
        {
          "output_type": "stream",
          "text": [
            "number of positive reviews in train set: sentiment    25000\n",
            "dtype: int64\n",
            "number of negative reviews in train set: sentiment    25000\n",
            "dtype: int64\n"
          ],
          "name": "stdout"
        }
      ]
    },
    {
      "cell_type": "code",
      "metadata": {
        "colab": {
          "base_uri": "https://localhost:8080/",
          "height": 415
        },
        "id": "7xXxo2CXGWZ4",
        "outputId": "45585c6a-3392-477c-89b9-6107e164f296"
      },
      "source": [
        "# creating positive and negative dataframes from the train set\n",
        "positive_reviews_train = csv_file[csv_file['sentiment'] == 'positive']\n",
        "negative_reviews_train = csv_file[csv_file['sentiment'] == 'negative']\n",
        "positive_reviews_train"
      ],
      "execution_count": 52,
      "outputs": [
        {
          "output_type": "execute_result",
          "data": {
            "text/html": [
              "<div>\n",
              "<style scoped>\n",
              "    .dataframe tbody tr th:only-of-type {\n",
              "        vertical-align: middle;\n",
              "    }\n",
              "\n",
              "    .dataframe tbody tr th {\n",
              "        vertical-align: top;\n",
              "    }\n",
              "\n",
              "    .dataframe thead th {\n",
              "        text-align: right;\n",
              "    }\n",
              "</style>\n",
              "<table border=\"1\" class=\"dataframe\">\n",
              "  <thead>\n",
              "    <tr style=\"text-align: right;\">\n",
              "      <th></th>\n",
              "      <th>review</th>\n",
              "      <th>sentiment</th>\n",
              "      <th>review_text</th>\n",
              "    </tr>\n",
              "  </thead>\n",
              "  <tbody>\n",
              "    <tr>\n",
              "      <th>0</th>\n",
              "      <td>[one, reviewer, mentioned, watching, oz, episo...</td>\n",
              "      <td>positive</td>\n",
              "      <td>one reviewer mentioned watching oz episode hoo...</td>\n",
              "    </tr>\n",
              "    <tr>\n",
              "      <th>1</th>\n",
              "      <td>[wonderful, little, production, filming, techn...</td>\n",
              "      <td>positive</td>\n",
              "      <td>wonderful little production filming technique ...</td>\n",
              "    </tr>\n",
              "    <tr>\n",
              "      <th>2</th>\n",
              "      <td>[thought, wonderful, way, spend, time, hot, su...</td>\n",
              "      <td>positive</td>\n",
              "      <td>thought wonderful way spend time hot summer we...</td>\n",
              "    </tr>\n",
              "    <tr>\n",
              "      <th>4</th>\n",
              "      <td>[petter, mattei, love, time, money, visually, ...</td>\n",
              "      <td>positive</td>\n",
              "      <td>petter mattei love time money visually stunnin...</td>\n",
              "    </tr>\n",
              "    <tr>\n",
              "      <th>5</th>\n",
              "      <td>[probably, alltime, favorite, movie, story, se...</td>\n",
              "      <td>positive</td>\n",
              "      <td>probably alltime favorite movie story selfless...</td>\n",
              "    </tr>\n",
              "    <tr>\n",
              "      <th>...</th>\n",
              "      <td>...</td>\n",
              "      <td>...</td>\n",
              "      <td>...</td>\n",
              "    </tr>\n",
              "    <tr>\n",
              "      <th>49983</th>\n",
              "      <td>[loved, fan, original, series, always, wondere...</td>\n",
              "      <td>positive</td>\n",
              "      <td>loved fan original series always wondered back...</td>\n",
              "    </tr>\n",
              "    <tr>\n",
              "      <th>49985</th>\n",
              "      <td>[imaginary, hero, clearly, best, film, year, c...</td>\n",
              "      <td>positive</td>\n",
              "      <td>imaginary hero clearly best film year complete...</td>\n",
              "    </tr>\n",
              "    <tr>\n",
              "      <th>49989</th>\n",
              "      <td>[got, one, week, ago, love, modern, light, fil...</td>\n",
              "      <td>positive</td>\n",
              "      <td>got one week ago love modern light filled true...</td>\n",
              "    </tr>\n",
              "    <tr>\n",
              "      <th>49992</th>\n",
              "      <td>[john, garfield, play, marine, blinded, grenad...</td>\n",
              "      <td>positive</td>\n",
              "      <td>john garfield play marine blinded grenade figh...</td>\n",
              "    </tr>\n",
              "    <tr>\n",
              "      <th>49995</th>\n",
              "      <td>[thought, movie, right, good, job, creative, o...</td>\n",
              "      <td>positive</td>\n",
              "      <td>thought movie right good job creative original...</td>\n",
              "    </tr>\n",
              "  </tbody>\n",
              "</table>\n",
              "<p>25000 rows × 3 columns</p>\n",
              "</div>"
            ],
            "text/plain": [
              "                                                  review  ...                                        review_text\n",
              "0      [one, reviewer, mentioned, watching, oz, episo...  ...  one reviewer mentioned watching oz episode hoo...\n",
              "1      [wonderful, little, production, filming, techn...  ...  wonderful little production filming technique ...\n",
              "2      [thought, wonderful, way, spend, time, hot, su...  ...  thought wonderful way spend time hot summer we...\n",
              "4      [petter, mattei, love, time, money, visually, ...  ...  petter mattei love time money visually stunnin...\n",
              "5      [probably, alltime, favorite, movie, story, se...  ...  probably alltime favorite movie story selfless...\n",
              "...                                                  ...  ...                                                ...\n",
              "49983  [loved, fan, original, series, always, wondere...  ...  loved fan original series always wondered back...\n",
              "49985  [imaginary, hero, clearly, best, film, year, c...  ...  imaginary hero clearly best film year complete...\n",
              "49989  [got, one, week, ago, love, modern, light, fil...  ...  got one week ago love modern light filled true...\n",
              "49992  [john, garfield, play, marine, blinded, grenad...  ...  john garfield play marine blinded grenade figh...\n",
              "49995  [thought, movie, right, good, job, creative, o...  ...  thought movie right good job creative original...\n",
              "\n",
              "[25000 rows x 3 columns]"
            ]
          },
          "metadata": {
            "tags": []
          },
          "execution_count": 52
        }
      ]
    },
    {
      "cell_type": "code",
      "metadata": {
        "colab": {
          "base_uri": "https://localhost:8080/",
          "height": 317
        },
        "id": "M5pckuljX6ly",
        "outputId": "d340c597-6761-49fe-a11d-c05923000b55"
      },
      "source": [
        "# show top 10 terms in positive reviews\n",
        "corpus_pos = list(positive_reviews_train['review'])\n",
        "dict_words = {}\n",
        "for doc in corpus_pos:\n",
        "  for word in doc:\n",
        "    if word in dict_words.keys():\n",
        "      dict_words[word] = dict_words[word] + 1\n",
        "    else:\n",
        "      dict_words[word] = 1\n",
        "\n",
        "dict_words_top10 = sorted(dict_words.items(), key=operator.itemgetter(1),reverse=True)\n",
        "dict_words_top10 = dict_words_top10[:10]\n",
        "plt.barh(*zip(*dict_words_top10))\n",
        "plt.title('Most frequent words in Positive reviews')\n",
        "plt.xlabel('word frequency')\n",
        "plt.xticks(fontsize=10, rotation=90)\n",
        "plt.yticks(fontsize=16)\n",
        "plt.show()"
      ],
      "execution_count": 53,
      "outputs": [
        {
          "output_type": "display_data",
          "data": {
            "image/png": "[encoded data removed]",
            "text/plain": [
              "<Figure size 432x288 with 1 Axes>"
            ]
          },
          "metadata": {
            "tags": [],
            "needs_background": "light"
          }
        }
      ]
    },
    {
      "cell_type": "code",
      "metadata": {
        "colab": {
          "base_uri": "https://localhost:8080/",
          "height": 278
        },
        "id": "IpevwMgukpzO",
        "outputId": "951f0d91-2341-4b43-e82f-e3426d2ea4b4"
      },
      "source": [
        "# Term Distribution - Positive - highest 10K terms\r\n",
        "\r\n",
        "import math\r\n",
        "dict_words = {k: math.log(v) for k, v in dict_words.items()}\r\n",
        "dict_words = sorted(dict_words.items(), key=operator.itemgetter(1),reverse=True)\r\n",
        "dict_words = dict_words[:10000]\r\n",
        "\r\n",
        "plt.bar(*zip(*dict_words))\r\n",
        "plt.title('Term Distribution in Positive reviews')\r\n",
        "plt.xlabel('Terms')\r\n",
        "plt.ylabel('log(term frequency)')\r\n",
        "plt.xticks([], [])\r\n",
        "plt.yticks(fontsize=16)\r\n",
        "plt.show()"
      ],
      "execution_count": 54,
      "outputs": [
        {
          "output_type": "display_data",
          "data": {
            "image/png": "[encoded data removed]",
            "text/plain": [
              "<Figure size 432x288 with 1 Axes>"
            ]
          },
          "metadata": {
            "tags": [],
            "needs_background": "light"
          }
        }
      ]
    },
    {
      "cell_type": "code",
      "metadata": {
        "colab": {
          "base_uri": "https://localhost:8080/",
          "height": 317
        },
        "id": "2IpqZiwFyAW8",
        "outputId": "ddcfa5bb-17c3-48bb-b98b-e689d01252ae"
      },
      "source": [
        "# show top 10 terms in negative reviews\n",
        "\n",
        "corpus_neg = list(negative_reviews_train['review'])\n",
        "dict_words = {}\n",
        "for doc in corpus_neg:\n",
        "  for word in doc:\n",
        "    if word in dict_words.keys():\n",
        "      dict_words[word] = dict_words[word] + 1\n",
        "    else:\n",
        "      dict_words[word] = 1\n",
        "\n",
        "dict_words_top10 = sorted(dict_words.items(), key=operator.itemgetter(1),reverse=True)\n",
        "dict_words_top10 = dict_words_top10[:10]\n",
        "plt.barh(*zip(*dict_words_top10))\n",
        "plt.title('Most frequent words in Negative reviews')\n",
        "plt.xlabel('word frequency')\n",
        "plt.xticks(fontsize=10, rotation=90)\n",
        "plt.yticks(fontsize=16)\n",
        "plt.show()"
      ],
      "execution_count": 55,
      "outputs": [
        {
          "output_type": "display_data",
          "data": {
            "image/png": "[encoded data removed]",
            "text/plain": [
              "<Figure size 432x288 with 1 Axes>"
            ]
          },
          "metadata": {
            "tags": [],
            "needs_background": "light"
          }
        }
      ]
    },
    {
      "cell_type": "code",
      "metadata": {
        "colab": {
          "base_uri": "https://localhost:8080/",
          "height": 278
        },
        "id": "2ypJrRKslnlR",
        "outputId": "565988eb-9b1e-4db2-8a66-f50758d70dd0"
      },
      "source": [
        "# Term Distribution - Negative - highest 10K terms\r\n",
        "\r\n",
        "import math\r\n",
        "dict_words = {k: math.log(v) for k, v in dict_words.items()}\r\n",
        "dict_words = sorted(dict_words.items(), key=operator.itemgetter(1),reverse=True)\r\n",
        "dict_words = dict_words[:10000]\r\n",
        "\r\n",
        "plt.bar(*zip(*dict_words))\r\n",
        "plt.title('Term Distribution in Negative reviews')\r\n",
        "plt.xlabel('Terms')\r\n",
        "plt.ylabel('log(term frequency)')\r\n",
        "plt.xticks([], [])\r\n",
        "plt.yticks(fontsize=16)\r\n",
        "plt.show()"
      ],
      "execution_count": 56,
      "outputs": [
        {
          "output_type": "display_data",
          "data": {
            "image/png": "[encoded data removed]",
            "text/plain": [
              "<Figure size 432x288 with 1 Axes>"
            ]
          },
          "metadata": {
            "tags": [],
            "needs_background": "light"
          }
        }
      ]
    },
    {
      "cell_type": "code",
      "metadata": {
        "colab": {
          "base_uri": "https://localhost:8080/",
          "height": 225
        },
        "id": "r6QbOdAJF3Iq",
        "outputId": "b083f61d-98d9-4b88-bcf5-5b3d972739b4"
      },
      "source": [
        "# Get mean of positive and negative reviews\r\n",
        "avg_pos_reviews = csv_file[csv_file.sentiment=='positive'].review_text.apply(lambda x: len(x.split())).mean()\r\n",
        "avg_neg_reviews = csv_file[csv_file.sentiment=='negative'].review_text.apply(lambda x: len(x.split())).mean()\r\n",
        "\r\n",
        "plt.figure(figsize=(10, 3))\r\n",
        "plt.barh(['Positive', 'Negative'], [avg_pos_reviews, avg_neg_reviews], height=0.5)\r\n",
        "# plt.xticks(np.arange(0, 300, 25))\r\n",
        "plt.xlabel('Average Number of words')\r\n",
        "plt.ylabel('Sentiment')\r\n",
        "plt.show()"
      ],
      "execution_count": 57,
      "outputs": [
        {
          "output_type": "display_data",
          "data": {
            "image/png": "[encoded data removed]",
            "text/plain": [
              "<Figure size 720x216 with 1 Axes>"
            ]
          },
          "metadata": {
            "tags": [],
            "needs_background": "light"
          }
        }
      ]
    },
    {
      "cell_type": "markdown",
      "metadata": {
        "id": "fxPSbUA61RfT"
      },
      "source": [
        "Explain expected challenges:\n",
        "1. as we can see from both graphs, the unigrams and bigrams are quite similar because the reviewers tend to mention words related to the movies and the story more often\n",
        "2. each reviewer has his own opinion about the movie and uses different vocabulary to describe his thoughts and feelings which makes it difficult for us to find common and similar descripsions.\n",
        "3. we can see that in the negative reviews that both 'bad' and 'good' are very common, which is very confusing to understand and decide whether the review is positive or negative\n",
        "4. positive reviews has the same length as negative reviews in average numnber of words - we can't say that positive review suppose to be longer, same about negative review\n"
      ]
    },
    {
      "cell_type": "markdown",
      "metadata": {
        "id": "jz3z3dh1jU81"
      },
      "source": [
        "# Q2:"
      ]
    },
    {
      "cell_type": "code",
      "metadata": {
        "colab": {
          "base_uri": "https://localhost:8080/",
          "height": 415
        },
        "id": "mXh_QllINNEX",
        "outputId": "c01b1ccc-8295-4787-9797-03eb7df11c47"
      },
      "source": [
        "# split=int(0.5*csv_file.shape[0])\r\n",
        "# train_data = csv_file[0:split]\r\n",
        "# test_data = csv_file[split:]\r\n",
        "# train_data\r\n",
        "\r\n",
        "# split to train and test\r\n",
        "y = csv_file.sentiment\r\n",
        "x = csv_file.drop('sentiment', axis=1)\r\n",
        "x_train, x_test, y_train, y_test = train_test_split(x, y, test_size=0.5)\r\n",
        "train_data = x_train.merge(y_train, left_index=True, right_index=True)\r\n",
        "test_data = x_test.merge(y_test, left_index=True, right_index=True)\r\n",
        "test_data"
      ],
      "execution_count": 58,
      "outputs": [
        {
          "output_type": "execute_result",
          "data": {
            "text/html": [
              "<div>\n",
              "<style scoped>\n",
              "    .dataframe tbody tr th:only-of-type {\n",
              "        vertical-align: middle;\n",
              "    }\n",
              "\n",
              "    .dataframe tbody tr th {\n",
              "        vertical-align: top;\n",
              "    }\n",
              "\n",
              "    .dataframe thead th {\n",
              "        text-align: right;\n",
              "    }\n",
              "</style>\n",
              "<table border=\"1\" class=\"dataframe\">\n",
              "  <thead>\n",
              "    <tr style=\"text-align: right;\">\n",
              "      <th></th>\n",
              "      <th>review</th>\n",
              "      <th>review_text</th>\n",
              "      <th>sentiment</th>\n",
              "    </tr>\n",
              "  </thead>\n",
              "  <tbody>\n",
              "    <tr>\n",
              "      <th>1164</th>\n",
              "      <td>[begotten, one, unique, film, ever, seen, stud...</td>\n",
              "      <td>begotten one unique film ever seen study sound...</td>\n",
              "      <td>positive</td>\n",
              "    </tr>\n",
              "    <tr>\n",
              "      <th>24130</th>\n",
              "      <td>[short, part, four, short, cinema, journal, fi...</td>\n",
              "      <td>short part four short cinema journal film rent...</td>\n",
              "      <td>positive</td>\n",
              "    </tr>\n",
              "    <tr>\n",
              "      <th>44718</th>\n",
              "      <td>[everything, film, terrible, start, film, pret...</td>\n",
              "      <td>everything film terrible start film pretty goo...</td>\n",
              "      <td>negative</td>\n",
              "    </tr>\n",
              "    <tr>\n",
              "      <th>15205</th>\n",
              "      <td>[first, found, brian, krause, going, movie, wa...</td>\n",
              "      <td>first found brian krause going movie wanted wa...</td>\n",
              "      <td>positive</td>\n",
              "    </tr>\n",
              "    <tr>\n",
              "      <th>10628</th>\n",
              "      <td>[one, cassavetes, best, performance, entire, c...</td>\n",
              "      <td>one cassavetes best performance entire cast ou...</td>\n",
              "      <td>positive</td>\n",
              "    </tr>\n",
              "    <tr>\n",
              "      <th>...</th>\n",
              "      <td>...</td>\n",
              "      <td>...</td>\n",
              "      <td>...</td>\n",
              "    </tr>\n",
              "    <tr>\n",
              "      <th>14943</th>\n",
              "      <td>[guess, comment, upon, flick, magnificent, sev...</td>\n",
              "      <td>guess comment upon flick magnificent seven fra...</td>\n",
              "      <td>negative</td>\n",
              "    </tr>\n",
              "    <tr>\n",
              "      <th>32137</th>\n",
              "      <td>[saw, movie, part, billy, graham, program, chu...</td>\n",
              "      <td>saw movie part billy graham program church att...</td>\n",
              "      <td>negative</td>\n",
              "    </tr>\n",
              "    <tr>\n",
              "      <th>40470</th>\n",
              "      <td>[nyt, review, say, sigourney, weaver, characte...</td>\n",
              "      <td>nyt review say sigourney weaver character taut...</td>\n",
              "      <td>positive</td>\n",
              "    </tr>\n",
              "    <tr>\n",
              "      <th>43092</th>\n",
              "      <td>[everybody, love, see, really, bad, movie, som...</td>\n",
              "      <td>everybody love see really bad movie sometime w...</td>\n",
              "      <td>negative</td>\n",
              "    </tr>\n",
              "    <tr>\n",
              "      <th>27012</th>\n",
              "      <td>[movie, confuse, death, furthermore, denise, r...</td>\n",
              "      <td>movie confuse death furthermore denise richard...</td>\n",
              "      <td>negative</td>\n",
              "    </tr>\n",
              "  </tbody>\n",
              "</table>\n",
              "<p>25000 rows × 3 columns</p>\n",
              "</div>"
            ],
            "text/plain": [
              "                                                  review  ... sentiment\n",
              "1164   [begotten, one, unique, film, ever, seen, stud...  ...  positive\n",
              "24130  [short, part, four, short, cinema, journal, fi...  ...  positive\n",
              "44718  [everything, film, terrible, start, film, pret...  ...  negative\n",
              "15205  [first, found, brian, krause, going, movie, wa...  ...  positive\n",
              "10628  [one, cassavetes, best, performance, entire, c...  ...  positive\n",
              "...                                                  ...  ...       ...\n",
              "14943  [guess, comment, upon, flick, magnificent, sev...  ...  negative\n",
              "32137  [saw, movie, part, billy, graham, program, chu...  ...  negative\n",
              "40470  [nyt, review, say, sigourney, weaver, characte...  ...  positive\n",
              "43092  [everybody, love, see, really, bad, movie, som...  ...  negative\n",
              "27012  [movie, confuse, death, furthermore, denise, r...  ...  negative\n",
              "\n",
              "[25000 rows x 3 columns]"
            ]
          },
          "metadata": {
            "tags": []
          },
          "execution_count": 58
        }
      ]
    },
    {
      "cell_type": "code",
      "metadata": {
        "colab": {
          "base_uri": "https://localhost:8080/"
        },
        "id": "R8apAkTZBKeA",
        "outputId": "9b7b770a-a138-4b3e-b1b5-f88d5af7eb42"
      },
      "source": [
        "tagged_list = []\n",
        "\n",
        "review_text_sentences = list(test_data['review_text'])\n",
        "print(review_text_sentences[0])\n",
        "stokens = [nltk.word_tokenize(sentence) for sentence in review_text_sentences]\n",
        "\n",
        "for stoken in stokens:        \n",
        "     tagged_list.append(nltk.pos_tag(stoken))\n",
        "\n",
        "# tagged_list"
      ],
      "execution_count": 59,
      "outputs": [
        {
          "output_type": "stream",
          "text": [
            "begotten one unique film ever seen study sound light dark movement real story type thing see video instillation museum modern art film enjoyed local theater going try interpret image mother nature beast cloak twisted tortured body child thing defy interpretation begotten one one unique unique film film ever ever seen seen study study sound sound light light dark dark movement movement real real story story type type thing thing see see video video instillation instillation museum museum modern modern art art film film enjoyed enjoyed local local theater theater going going try try interpret interpret image image mother mother nature nature beast beast cloak cloak twisted twisted tortured tortured body body child child thing thing defy defy interpretation\n"
          ],
          "name": "stdout"
        }
      ]
    },
    {
      "cell_type": "code",
      "metadata": {
        "id": "o8NrMOD0PqAj"
      },
      "source": [
        "from nltk.corpus import sentiwordnet as swn\n",
        "\n",
        "lemmatizer_obj = nltk.WordNetLemmatizer()\n",
        "score_list=[]\n",
        "\n",
        "for idx,taggedsent in enumerate(tagged_list):  #iterate over all tokens\n",
        "    score_list.append([])\n",
        "    for idx2,t in enumerate(taggedsent):  #t[0] word, t[1] pos tag\n",
        "        newtag=''\n",
        "        lemmatized=lemmatizer_obj.lemmatize(t[0])\n",
        "        if t[1].startswith('NN'):\n",
        "            newtag='n'\n",
        "        elif t[1].startswith('JJ'):\n",
        "            newtag='a'\n",
        "        elif t[1].startswith('V'):\n",
        "            newtag='v'\n",
        "        elif t[1].startswith('R'):\n",
        "            newtag='r'\n",
        "        else:\n",
        "            newtag=''       \n",
        "        if newtag!='' :    \n",
        "            synsets = list(swn.senti_synsets(lemmatized, newtag))\n",
        "            # print(lemmatized) # great\n",
        "            # print(synsets) # [SentiSynset('great.s.01'), SentiSynset('great.s.02'), SentiSynset('great.s.03'), SentiSynset('bang-up.s.01'), SentiSynset('capital.s.03'), SentiSynset('big.s.13')]\n",
        "            #synsets contains for each token the probability for negative, positive and objective\n",
        "            #Getting average of all possible sentiments, as you requested        \n",
        "            score=0\n",
        "            if len(synsets)>0 :\n",
        "                for syn in synsets:\n",
        "                    # print(\"positive score \",syn.pos_score(),\"negative score \",syn.neg_score(),\"objective score \",syn.obj_score())\n",
        "                    score+=syn.pos_score()-syn.neg_score()\n",
        "                score_list[idx].append(score/len(synsets))\n"
      ],
      "execution_count": 60,
      "outputs": []
    },
    {
      "cell_type": "code",
      "metadata": {
        "id": "ZVdlKeKrjldQ"
      },
      "source": [
        "sentence_sentiment=[]\n",
        "\n",
        "for score_sent in score_list:\n",
        "  sum_sentence_score = sum(score_sent)   \n",
        "  if len(score_sent) > 0:\n",
        "    sentence_sentiment.append(sum_sentence_score/len(score_sent))\n",
        "  else:\n",
        "    sentence_sentiment.append(0)\n",
        "\n"
      ],
      "execution_count": 61,
      "outputs": []
    },
    {
      "cell_type": "code",
      "metadata": {
        "id": "rYes9PqfpymE",
        "colab": {
          "base_uri": "https://localhost:8080/",
          "height": 415
        },
        "outputId": "6ac039a3-c4a0-40aa-aa07-0a2fa687df2d"
      },
      "source": [
        "test_data['review_score'] = sentence_sentiment\n",
        "test_data"
      ],
      "execution_count": 62,
      "outputs": [
        {
          "output_type": "execute_result",
          "data": {
            "text/html": [
              "<div>\n",
              "<style scoped>\n",
              "    .dataframe tbody tr th:only-of-type {\n",
              "        vertical-align: middle;\n",
              "    }\n",
              "\n",
              "    .dataframe tbody tr th {\n",
              "        vertical-align: top;\n",
              "    }\n",
              "\n",
              "    .dataframe thead th {\n",
              "        text-align: right;\n",
              "    }\n",
              "</style>\n",
              "<table border=\"1\" class=\"dataframe\">\n",
              "  <thead>\n",
              "    <tr style=\"text-align: right;\">\n",
              "      <th></th>\n",
              "      <th>review</th>\n",
              "      <th>review_text</th>\n",
              "      <th>sentiment</th>\n",
              "      <th>review_score</th>\n",
              "    </tr>\n",
              "  </thead>\n",
              "  <tbody>\n",
              "    <tr>\n",
              "      <th>1164</th>\n",
              "      <td>[begotten, one, unique, film, ever, seen, stud...</td>\n",
              "      <td>begotten one unique film ever seen study sound...</td>\n",
              "      <td>positive</td>\n",
              "      <td>0.006609</td>\n",
              "    </tr>\n",
              "    <tr>\n",
              "      <th>24130</th>\n",
              "      <td>[short, part, four, short, cinema, journal, fi...</td>\n",
              "      <td>short part four short cinema journal film rent...</td>\n",
              "      <td>positive</td>\n",
              "      <td>0.002368</td>\n",
              "    </tr>\n",
              "    <tr>\n",
              "      <th>44718</th>\n",
              "      <td>[everything, film, terrible, start, film, pret...</td>\n",
              "      <td>everything film terrible start film pretty goo...</td>\n",
              "      <td>negative</td>\n",
              "      <td>-0.005976</td>\n",
              "    </tr>\n",
              "    <tr>\n",
              "      <th>15205</th>\n",
              "      <td>[first, found, brian, krause, going, movie, wa...</td>\n",
              "      <td>first found brian krause going movie wanted wa...</td>\n",
              "      <td>positive</td>\n",
              "      <td>0.076889</td>\n",
              "    </tr>\n",
              "    <tr>\n",
              "      <th>10628</th>\n",
              "      <td>[one, cassavetes, best, performance, entire, c...</td>\n",
              "      <td>one cassavetes best performance entire cast ou...</td>\n",
              "      <td>positive</td>\n",
              "      <td>0.080063</td>\n",
              "    </tr>\n",
              "    <tr>\n",
              "      <th>...</th>\n",
              "      <td>...</td>\n",
              "      <td>...</td>\n",
              "      <td>...</td>\n",
              "      <td>...</td>\n",
              "    </tr>\n",
              "    <tr>\n",
              "      <th>14943</th>\n",
              "      <td>[guess, comment, upon, flick, magnificent, sev...</td>\n",
              "      <td>guess comment upon flick magnificent seven fra...</td>\n",
              "      <td>negative</td>\n",
              "      <td>-0.019213</td>\n",
              "    </tr>\n",
              "    <tr>\n",
              "      <th>32137</th>\n",
              "      <td>[saw, movie, part, billy, graham, program, chu...</td>\n",
              "      <td>saw movie part billy graham program church att...</td>\n",
              "      <td>negative</td>\n",
              "      <td>0.029886</td>\n",
              "    </tr>\n",
              "    <tr>\n",
              "      <th>40470</th>\n",
              "      <td>[nyt, review, say, sigourney, weaver, characte...</td>\n",
              "      <td>nyt review say sigourney weaver character taut...</td>\n",
              "      <td>positive</td>\n",
              "      <td>0.035272</td>\n",
              "    </tr>\n",
              "    <tr>\n",
              "      <th>43092</th>\n",
              "      <td>[everybody, love, see, really, bad, movie, som...</td>\n",
              "      <td>everybody love see really bad movie sometime w...</td>\n",
              "      <td>negative</td>\n",
              "      <td>0.002829</td>\n",
              "    </tr>\n",
              "    <tr>\n",
              "      <th>27012</th>\n",
              "      <td>[movie, confuse, death, furthermore, denise, r...</td>\n",
              "      <td>movie confuse death furthermore denise richard...</td>\n",
              "      <td>negative</td>\n",
              "      <td>0.008419</td>\n",
              "    </tr>\n",
              "  </tbody>\n",
              "</table>\n",
              "<p>25000 rows × 4 columns</p>\n",
              "</div>"
            ],
            "text/plain": [
              "                                                  review  ... review_score\n",
              "1164   [begotten, one, unique, film, ever, seen, stud...  ...     0.006609\n",
              "24130  [short, part, four, short, cinema, journal, fi...  ...     0.002368\n",
              "44718  [everything, film, terrible, start, film, pret...  ...    -0.005976\n",
              "15205  [first, found, brian, krause, going, movie, wa...  ...     0.076889\n",
              "10628  [one, cassavetes, best, performance, entire, c...  ...     0.080063\n",
              "...                                                  ...  ...          ...\n",
              "14943  [guess, comment, upon, flick, magnificent, sev...  ...    -0.019213\n",
              "32137  [saw, movie, part, billy, graham, program, chu...  ...     0.029886\n",
              "40470  [nyt, review, say, sigourney, weaver, characte...  ...     0.035272\n",
              "43092  [everybody, love, see, really, bad, movie, som...  ...     0.002829\n",
              "27012  [movie, confuse, death, furthermore, denise, r...  ...     0.008419\n",
              "\n",
              "[25000 rows x 4 columns]"
            ]
          },
          "metadata": {
            "tags": []
          },
          "execution_count": 62
        }
      ]
    },
    {
      "cell_type": "code",
      "metadata": {
        "colab": {
          "base_uri": "https://localhost:8080/"
        },
        "id": "kISUIPJIq2ef",
        "outputId": "964a6c11-d473-4da2-dddf-c1ad478c950d"
      },
      "source": [
        "from sklearn.metrics import accuracy_score, confusion_matrix\n",
        "\n",
        "def set_sentiment(c):\n",
        "  if c['review_score'] < 0.0:\n",
        "    return 'negative'\n",
        "  elif c['review_score'] > 0.0:\n",
        "    return 'positive'\n",
        "\n",
        "test_data['sentiment_pred'] = test_data.apply(set_sentiment , axis=1)\n",
        "print(\"accuracy:\")\n",
        "print(accuracy_score(test_data['sentiment'] , test_data['sentiment_pred']))\n",
        "con_mat = confusion_matrix(test_data['sentiment'] , test_data['sentiment_pred'], labels=['positive','negative'])\n",
        "df = pd.DataFrame(con_mat , index=['positive','negative'] , columns=['positive','negative'])\n",
        "print(\"confusion matrix:\")\n",
        "print(df)"
      ],
      "execution_count": 63,
      "outputs": [
        {
          "output_type": "stream",
          "text": [
            "accuracy:\n",
            "0.64084\n",
            "confusion matrix:\n",
            "          positive  negative\n",
            "positive     11242      1302\n",
            "negative      7677      4779\n"
          ],
          "name": "stdout"
        }
      ]
    }
  ]
}